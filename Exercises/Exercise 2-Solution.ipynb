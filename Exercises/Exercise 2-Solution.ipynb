{
 "cells": [
  {
   "cell_type": "markdown",
   "id": "antique-election",
   "metadata": {},
   "source": [
    "# Exercise 2 - Working with Excel\n",
    "In dieser Übung wird ein Excel als Input für die Beschreibung eines Gebäudes verwendet\n",
    "\n",
    "\n"
   ]
  },
  {
   "cell_type": "markdown",
   "id": "celtic-european",
   "metadata": {},
   "source": [
    "### Excel einlesen\n",
    "Lesen Sie aus dem Excel **data/building.xlsx** das Sheet \"thermal_hull\" in einen Pandas Dataframe namens *hull* ein \n",
    "> Hint: https://pythonbasics.org/read-excel/"
   ]
  },
  {
   "cell_type": "code",
   "execution_count": null,
   "id": "dimensional-bennett",
   "metadata": {
    "pycharm": {
     "is_executing": true
    }
   },
   "outputs": [
    {
     "name": "stdout",
     "output_type": "stream",
     "text": [
      "Requirement already satisfied: openpyxl in c:\\users\\simon schneider\\anaconda\\envs\\fluccoplus\\lib\\site-packages (3.0.6)\n",
      "Requirement already satisfied: jdcal in c:\\users\\simon schneider\\anaconda\\envs\\fluccoplus\\lib\\site-packages (from openpyxl) (1.4.1)\n",
      "Requirement already satisfied: et-xmlfile in c:\\users\\simon schneider\\anaconda\\envs\\fluccoplus\\lib\\site-packages (from openpyxl) (1.0.1)\n"
     ]
    }
   ],
   "source": [
    "!pip install openpyxl\n",
    "#or\n",
    "!conda install openpyxl"
   ]
  },
  {
   "cell_type": "code",
   "execution_count": null,
   "id": "illegal-house",
   "metadata": {
    "pycharm": {
     "is_executing": true
    }
   },
   "outputs": [],
   "source": [
    "import pandas as pd\n",
    "\n",
    "hull = pd.read_excel(\"data/building.xlsx\", sheet_name=\"thermal_hull\")\n",
    "hull"
   ]
  },
  {
   "cell_type": "code",
   "execution_count": null,
   "id": "known-brain",
   "metadata": {
    "pycharm": {
     "is_executing": true
    }
   },
   "outputs": [],
   "source": []
  },
  {
   "cell_type": "markdown",
   "id": "international-observer",
   "metadata": {},
   "source": [
    "Ermitteln Sie die insgesamte Fläche der thermischen Hülle $A_B$ "
   ]
  },
  {
   "cell_type": "code",
   "execution_count": null,
   "id": "sitting-dating",
   "metadata": {
    "pycharm": {
     "is_executing": true
    }
   },
   "outputs": [],
   "source": [
    "A_B = hull[\"Fläche\"].sum()\n",
    "print(f\"A_B = {A_B:.2f} m²\")"
   ]
  },
  {
   "cell_type": "markdown",
   "id": "indian-peeing",
   "metadata": {},
   "source": [
    "Erstellen Sie eine Funktion *thermal_hull*, die als Input den Pfad des building.xlsx entgegennimmt und einen pandas Dataframe ausgibt. Testen Sie die Funktion mit der Datei  **data/building2.xslx**"
   ]
  },
  {
   "cell_type": "code",
   "execution_count": null,
   "id": "anticipated-titanium",
   "metadata": {
    "pycharm": {
     "is_executing": true
    }
   },
   "outputs": [],
   "source": [
    "def thermal_hull(path):\n",
    "    return pd.read_excel(path, sheet_name=\"thermal_hull\")"
   ]
  },
  {
   "cell_type": "code",
   "execution_count": null,
   "id": "revolutionary-moral",
   "metadata": {
    "pycharm": {
     "is_executing": true
    }
   },
   "outputs": [],
   "source": [
    "hull = thermal_hull(\"data/building2.xlsx\")\n",
    "hull"
   ]
  },
  {
   "cell_type": "markdown",
   "id": "nasty-niagara",
   "metadata": {},
   "source": [
    "### Transmissions-Leitwert der Gebäudehülle\n",
    "Ermitteln Sie den Transmission-Leitwert der Bauteile\n",
    "$L_B =\\sum_if_iU_iA_i[W/K]$\n"
   ]
  },
  {
   "cell_type": "code",
   "execution_count": null,
   "id": "intermediate-synthetic",
   "metadata": {
    "pycharm": {
     "is_executing": true
    }
   },
   "outputs": [],
   "source": [
    "hull[\"L_B\"] = hull[\"Fläche\"] * hull[\"U-Wert\"] * hull[\"Temperatur-Korrekturfaktor\"]\n",
    "hull"
   ]
  },
  {
   "cell_type": "code",
   "execution_count": null,
   "id": "allied-surfing",
   "metadata": {
    "pycharm": {
     "is_executing": true
    }
   },
   "outputs": [],
   "source": [
    "L_B = hull.L_B.sum()\n",
    "print(f\"L_B = {L_B:.2f} W/K\")"
   ]
  },
  {
   "cell_type": "markdown",
   "id": "theoretical-millennium",
   "metadata": {},
   "source": [
    "Ermitteln Sie die Leitwert-Zuschläge $L_\\psi+L_\\chi$ entsprechend dem vereinfachten Ansatz:\n",
    "$L_\\psi+L_\\chi = 0.2(0.75 - \\frac{L_B}{A_B})A_B \\geq 0  [W/K]$"
   ]
  },
  {
   "cell_type": "code",
   "execution_count": null,
   "id": "drawn-necklace",
   "metadata": {
    "pycharm": {
     "is_executing": true
    }
   },
   "outputs": [],
   "source": []
  },
  {
   "cell_type": "code",
   "execution_count": null,
   "id": "cooperative-breeding",
   "metadata": {
    "pycharm": {
     "is_executing": true
    }
   },
   "outputs": [],
   "source": [
    "L_PX = max(0, (0.2*(0.75-L_B/A_B)*L_B))\n",
    "\n",
    "print(f\"L_PX = {L_PX:.2f} W/K\")"
   ]
  },
  {
   "cell_type": "markdown",
   "id": "received-hungary",
   "metadata": {},
   "source": [
    "Erstellen Sie eine Funktion *L_T*, die einen *thermal_hull* Pandas Dataframe entgegennimmt und den Transmissions-Leitwert der Gebäudehülle $L_T = L_B + L_\\psi+L_\\chi$ zurückgibt. Testen Sie die Funktion mit dem davor erstellten Dataframe"
   ]
  },
  {
   "cell_type": "code",
   "execution_count": null,
   "id": "inside-disclosure",
   "metadata": {
    "pycharm": {
     "is_executing": true
    }
   },
   "outputs": [],
   "source": [
    "def L_T(hull_df): # expects a pandas dataframe as input\n",
    "    A_B = hull_df[\"Fläche\"].sum()\n",
    "    hull_df[\"L_B\"] = hull_df[\"Fläche\"] * hull_df[\"U-Wert\"] * hull_df[\"Temperatur-Korrekturfaktor\"]\n",
    "    L_B = hull_df.L_B.sum()\n",
    "    L_PX = max(0, (0.2*(0.75-L_B/A_B)*L_B))\n",
    "    L_T = L_B + L_PX\n",
    "    return L_T"
   ]
  },
  {
   "cell_type": "code",
   "execution_count": null,
   "id": "conservative-instrumentation",
   "metadata": {
    "pycharm": {
     "is_executing": true
    }
   },
   "outputs": [],
   "source": [
    "print(f\"L_T = {L_T(hull):.2f} W/K\")"
   ]
  },
  {
   "cell_type": "markdown",
   "id": "hybrid-garden",
   "metadata": {},
   "source": [
    "Verwenden Sie abschließend die beiden erstellten Funktionen *thermal_hull* und *L_T* um in je einer Zeile die Leitwert der beiden Test-Gebäude *building.xlsx* und *building2.xlsx* darzustellen "
   ]
  },
  {
   "cell_type": "code",
   "execution_count": null,
   "id": "second-violation",
   "metadata": {
    "pycharm": {
     "is_executing": true
    }
   },
   "outputs": [],
   "source": [
    "print(\"building.xlsx:\",L_T(thermal_hull(\"data/building.xlsx\")))\n",
    "print(\"building2.xlsx:\",L_T(thermal_hull(\"data/building2.xlsx\")))"
   ]
  },
  {
   "cell_type": "markdown",
   "id": "proper-county",
   "metadata": {},
   "source": [
    "### Fenster\n",
    "Ergänzen Sie im *hull* Dataframe zwei Zeilen: \"AW (Opak)\" und \"Fenster\". Teilen Sie dazu die Brutto-Außenwand im Verhältnis 60:40 auf und ergänzen Sie für die Fenster einen U-Wert von 1.5 W/m²K "
   ]
  },
  {
   "cell_type": "code",
   "execution_count": null,
   "id": "assured-tunisia",
   "metadata": {
    "pycharm": {
     "is_executing": true
    }
   },
   "outputs": [],
   "source": [
    "hull = thermal_hull(\"data/building.xlsx\")\n",
    "aw_A = hull.loc[0,\"Fläche\"]\n",
    "aw_A\n"
   ]
  },
  {
   "cell_type": "code",
   "execution_count": null,
   "id": "minus-brook",
   "metadata": {
    "pycharm": {
     "is_executing": true
    }
   },
   "outputs": [],
   "source": [
    "aw_opak_A = aw_A * 0.6\n",
    "fenster_A = aw_A * 0.4\n",
    "fenster_A"
   ]
  },
  {
   "cell_type": "code",
   "execution_count": null,
   "id": "optical-monday",
   "metadata": {
    "pycharm": {
     "is_executing": true
    }
   },
   "outputs": [],
   "source": [
    "hull"
   ]
  },
  {
   "cell_type": "code",
   "execution_count": null,
   "id": "accompanied-leave",
   "metadata": {
    "pycharm": {
     "is_executing": true
    }
   },
   "outputs": [],
   "source": [
    "L_T(hull)"
   ]
  },
  {
   "cell_type": "code",
   "execution_count": null,
   "id": "confidential-romance",
   "metadata": {
    "pycharm": {
     "is_executing": true
    }
   },
   "outputs": [],
   "source": [
    "aw_opak = dict(zip(hull.columns,[\"AW (opak)\", aw_opak_A, hull.loc[0,\"U-Wert\"], hull.loc[0,\"Temperatur-Korrekturfaktor\"]]))\n",
    "aw_opak"
   ]
  },
  {
   "cell_type": "code",
   "execution_count": null,
   "id": "clear-geology",
   "metadata": {
    "pycharm": {
     "is_executing": true
    }
   },
   "outputs": [],
   "source": [
    "hull = hull.append(aw_opak, ignore_index = True)\n",
    "hull"
   ]
  },
  {
   "cell_type": "code",
   "execution_count": null,
   "id": "heavy-cameroon",
   "metadata": {
    "pycharm": {
     "is_executing": true
    }
   },
   "outputs": [],
   "source": [
    "fenster = dict(zip(hull.columns,[\"Fenster\", fenster_A, 1.5, hull.loc[0,\"Temperatur-Korrekturfaktor\"]]))\n",
    "hull = hull.append(fenster, ignore_index = True)\n",
    "hull"
   ]
  },
  {
   "cell_type": "code",
   "execution_count": null,
   "id": "uniform-hazard",
   "metadata": {
    "pycharm": {
     "is_executing": true
    }
   },
   "outputs": [],
   "source": [
    "L_T(hull)"
   ]
  },
  {
   "cell_type": "markdown",
   "id": "primary-hybrid",
   "metadata": {},
   "source": [
    "Erstellen Sie eine Funktion *insert_windows*, die diese Ergänzungen im Dataframe durchführen und  den U-Wert des fensters und den Fensterflächen-Anteil als Variable nehmen und einen aktualisierten Dataframe zurückgeben. Löschen Sie davor den Eintrag AW (brutto). Testen Sie, ob die Leitwertberechnung L_T() mit dem aktualisierten Dataframe funktioniert.  \n",
    "> Hint: https://www.shanelynn.ie/pandas-drop-delete-dataframe-rows-columns/\n"
   ]
  },
  {
   "cell_type": "code",
   "execution_count": null,
   "id": "hollow-startup",
   "metadata": {
    "pycharm": {
     "is_executing": true
    }
   },
   "outputs": [],
   "source": [
    "def insert_windows(hull_df, u_f, ff_anteil):\n",
    "    aw_A = hull_df.loc[0,\"Fläche\"]\n",
    "    aw_opak_A = aw_A * (1-ff_anteil)\n",
    "    fenster_A = aw_A * ff_anteil\n",
    "    \n",
    "    aw_opak = dict(zip(hull_df.columns,[\"AW (opak)\", aw_opak_A, hull_df.loc[0,\"U-Wert\"], hull_df.loc[0,\"Temperatur-Korrekturfaktor\"]]))\n",
    "    fenster = dict(zip(hull_df.columns,[\"Fenster\", fenster_A, u_f, hull_df.loc[0,\"Temperatur-Korrekturfaktor\"]]))\n",
    "    \n",
    "    hull_df = hull_df.append(aw_opak, ignore_index = True)\n",
    "    hull_df = hull_df.append(fenster, ignore_index = True)\n",
    "    hull_df.drop(hull_df.index[0], inplace=True)\n",
    "    return hull_df\n",
    "\n"
   ]
  },
  {
   "cell_type": "code",
   "execution_count": null,
   "id": "curious-western",
   "metadata": {
    "pycharm": {
     "is_executing": true
    }
   },
   "outputs": [],
   "source": [
    "hull2 = insert_windows(thermal_hull(\"data/building.xlsx\"), u_f=1.5, ff_anteil=0.4)\n",
    "hull2"
   ]
  },
  {
   "cell_type": "code",
   "execution_count": null,
   "id": "ordered-analysis",
   "metadata": {
    "pycharm": {
     "is_executing": true
    }
   },
   "outputs": [],
   "source": [
    "L_T(hull2)"
   ]
  }
 ],
 "metadata": {
  "kernelspec": {
   "display_name": "Simulation",
   "language": "python",
   "name": "simulation"
  },
  "language_info": {
   "codemirror_mode": {
    "name": "ipython",
    "version": 3
   },
   "file_extension": ".py",
   "mimetype": "text/x-python",
   "name": "python",
   "nbconvert_exporter": "python",
   "pygments_lexer": "ipython3",
   "version": "3.8.5"
  },
  "toc": {
   "base_numbering": 1,
   "nav_menu": {},
   "number_sections": true,
   "sideBar": true,
   "skip_h1_title": false,
   "title_cell": "Table of Contents",
   "title_sidebar": "Contents",
   "toc_cell": false,
   "toc_position": {},
   "toc_section_display": true,
   "toc_window_display": true
  }
 },
 "nbformat": 4,
 "nbformat_minor": 5
}