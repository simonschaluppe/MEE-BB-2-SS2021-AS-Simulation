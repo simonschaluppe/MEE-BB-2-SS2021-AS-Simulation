{
 "cells": [
  {
   "cell_type": "markdown",
   "id": "antique-election",
   "metadata": {},
   "source": [
    "# Exercise 2 - Working with Excel\n",
    "In dieser Übung wird ein Excel als Input für die Beschreibung eines Gebäudes verwendet\n",
    "\n",
    "\n"
   ]
  },
  {
   "cell_type": "markdown",
   "id": "celtic-european",
   "metadata": {},
   "source": [
    "### Excel einlesen\n",
    "Lesen Sie aus dem Excel **data/building.xlsx** das Sheet \"thermal_hull\" in einen Pandas Dataframe namens *hull* ein \n",
    "> Additional help: https://pythonbasics.org/read-excel/"
   ]
  },
  {
   "cell_type": "code",
   "execution_count": null,
   "id": "dimensional-bennett",
   "metadata": {},
   "outputs": [
    {
     "name": "stdout",
     "output_type": "stream",
     "text": [
      "Requirement already satisfied: openpyxl in c:\\users\\simon schneider\\anaconda\\envs\\simulation\\lib\\site-packages (3.0.7)\n",
      "Requirement already satisfied: et-xmlfile in c:\\users\\simon schneider\\anaconda\\envs\\simulation\\lib\\site-packages (from openpyxl) (1.0.1)\n"
     ]
    }
   ],
   "source": [
    "!pip install openpyxl\n",
    "#or\n",
    "!conda install openpyxl"
   ]
  },
  {
   "cell_type": "code",
   "execution_count": null,
   "id": "illegal-house",
   "metadata": {},
   "outputs": [],
   "source": []
  },
  {
   "cell_type": "code",
   "execution_count": null,
   "id": "known-brain",
   "metadata": {},
   "outputs": [],
   "source": []
  },
  {
   "cell_type": "markdown",
   "id": "international-observer",
   "metadata": {},
   "source": [
    "Ermitteln Sie die insgesamte Fläche der thermischen Hülle $A_B$ "
   ]
  },
  {
   "cell_type": "code",
   "execution_count": null,
   "id": "sitting-dating",
   "metadata": {},
   "outputs": [],
   "source": []
  },
  {
   "cell_type": "markdown",
   "id": "indian-peeing",
   "metadata": {},
   "source": [
    "Erstellen Sie eine Funktion *thermal_hull*, die als Input den Pfad des building.xlsx entgegennimmt und einen pandas Dataframe ausgibt. Testen Sie die Funktion mit der Datei  **data/building2.xslx**"
   ]
  },
  {
   "cell_type": "code",
   "execution_count": 1,
   "id": "anticipated-titanium",
   "metadata": {},
   "outputs": [],
   "source": [
    "def thermal_hull(path):\n",
    "    ..."
   ]
  },
  {
   "cell_type": "code",
   "execution_count": null,
   "id": "revolutionary-moral",
   "metadata": {},
   "outputs": [],
   "source": []
  },
  {
   "cell_type": "markdown",
   "id": "nasty-niagara",
   "metadata": {},
   "source": [
    "### Transmissions-Leitwert der Gebäudehülle\n",
    "Ermitteln Sie den Transmission-Leitwert der Bauteile\n",
    "$L_B =\\sum_if_iU_iA_i[W/K]$\n"
   ]
  },
  {
   "cell_type": "code",
   "execution_count": null,
   "id": "intermediate-synthetic",
   "metadata": {},
   "outputs": [],
   "source": []
  },
  {
   "cell_type": "markdown",
   "id": "theoretical-millennium",
   "metadata": {},
   "source": [
    "Ermitteln Sie die Leitwert-Zuschläge $L_\\psi+L_\\chi$ entsprechend dem vereinfachten Ansatz:\n",
    "$L_\\psi+L_\\chi = 0.2(0.75 - \\frac{L_B}{A_B})L_B \\geq 0  [W/K]$"
   ]
  },
  {
   "cell_type": "code",
   "execution_count": null,
   "id": "drawn-necklace",
   "metadata": {},
   "outputs": [],
   "source": []
  },
  {
   "cell_type": "markdown",
   "id": "received-hungary",
   "metadata": {},
   "source": [
    "Erstellen Sie eine Funktion *L_T*, die einen *thermal_hull* Pandas Dataframe entgegennimmt und den Transmissions-Leitwert der Gebäudehülle $L_T = L_B + L_\\psi+L_\\chi$ zurückgibt. Testen Sie die Funktion mit dem davor erstellten Dataframe"
   ]
  },
  {
   "cell_type": "code",
   "execution_count": 2,
   "id": "inside-disclosure",
   "metadata": {},
   "outputs": [],
   "source": [
    "def L_T(hull_df): # expects a pandas dataframe as input\n",
    "    ..."
   ]
  },
  {
   "cell_type": "markdown",
   "id": "hybrid-garden",
   "metadata": {},
   "source": [
    "Verwenden Sie abschließend die beiden erstellten Funktionen *thermal_hull* und *L_T* um in je einer Zeile die Leitwert der beiden Test-Gebäude *building.xlsx* und *building2.xlsx* darzustellen "
   ]
  },
  {
   "cell_type": "markdown",
   "id": "proper-county",
   "metadata": {},
   "source": [
    "### Fenster\n",
    "Ergänzen Sie im *hull* Dataframe zwei Zeilen: \"AW (Opak)\" und \"Fenster\". Teilen Sie dazu die Brutto-Außenwand im Verhältnis 60:40 auf und ergänzen Sie für die Fenster einen U-Wert von 1.5 W/m²K "
   ]
  },
  {
   "cell_type": "code",
   "execution_count": null,
   "id": "direct-history",
   "metadata": {},
   "outputs": [],
   "source": []
  },
  {
   "cell_type": "markdown",
   "id": "primary-hybrid",
   "metadata": {},
   "source": [
    "Erstellen Sie eine Funktion *insert_windows*, die diese Ergänzungen im Dataframe durchführen und  den U-Wert des fensters und den Fensterflächen-Anteil als Variable nehmen und einen aktualisierten Dataframe zurückgeben. Löschen Sie davor den Eintrag AW (brutto). Testen Sie, ob die Leitwertberechnung L_T() mit dem aktualisierten Dataframe funktioniert.  \n",
    "> Hint: https://www.shanelynn.ie/pandas-drop-delete-dataframe-rows-columns/\n"
   ]
  },
  {
   "cell_type": "code",
   "execution_count": 3,
   "id": "hollow-startup",
   "metadata": {},
   "outputs": [],
   "source": [
    "def insert_windows(hull_df, u_f, ff_anteil):\n",
    "    ...\n",
    "\n"
   ]
  }
 ],
 "metadata": {
  "kernelspec": {
   "display_name": "Simulation",
   "language": "python",
   "name": "simulation"
  },
  "language_info": {
   "codemirror_mode": {
    "name": "ipython",
    "version": 3
   },
   "file_extension": ".py",
   "mimetype": "text/x-python",
   "name": "python",
   "nbconvert_exporter": "python",
   "pygments_lexer": "ipython3",
   "version": "3.8.5"
  },
  "toc": {
   "base_numbering": 1,
   "nav_menu": {},
   "number_sections": true,
   "sideBar": true,
   "skip_h1_title": false,
   "title_cell": "Table of Contents",
   "title_sidebar": "Contents",
   "toc_cell": false,
   "toc_position": {},
   "toc_section_display": true,
   "toc_window_display": true
  }
 },
 "nbformat": 4,
 "nbformat_minor": 5
}