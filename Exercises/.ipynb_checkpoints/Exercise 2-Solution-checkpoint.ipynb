{
 "cells": [
  {
   "cell_type": "markdown",
   "id": "antique-election",
   "metadata": {},
   "source": [
    "# Exercise 2 - Working with Excel\n",
    "In dieser Übung wird ein Excel als Input für die Beschreibung eines Gebäudes verwendet\n",
    "\n",
    "\n"
   ]
  },
  {
   "cell_type": "markdown",
   "id": "celtic-european",
   "metadata": {},
   "source": [
    "### Excel einlesen\n",
    "Lesen Sie aus dem Excel **data/building.xlsx** das Sheet \"thermal_hull\" in einen Pandas Dataframe namens *hull* ein \n",
    "> Hint: https://pythonbasics.org/read-excel/"
   ]
  },
  {
   "cell_type": "code",
   "execution_count": null,
   "id": "dimensional-bennett",
   "metadata": {},
   "outputs": [
    {
     "name": "stdout",
     "output_type": "stream",
     "text": [
      "Requirement already satisfied: openpyxl in c:\\users\\simon schneider\\anaconda\\envs\\simulation\\lib\\site-packages (3.0.7)\n",
      "Requirement already satisfied: et-xmlfile in c:\\users\\simon schneider\\anaconda\\envs\\simulation\\lib\\site-packages (from openpyxl) (1.0.1)\n"
     ]
    }
   ],
   "source": [
    "!pip install openpyxl\n",
    "#or\n",
    "!conda install openpyxl"
   ]
  },
  {
   "cell_type": "code",
   "execution_count": 2,
   "id": "illegal-house",
   "metadata": {},
   "outputs": [
    {
     "data": {
      "text/html": [
       "<div>\n",
       "<style scoped>\n",
       "    .dataframe tbody tr th:only-of-type {\n",
       "        vertical-align: middle;\n",
       "    }\n",
       "\n",
       "    .dataframe tbody tr th {\n",
       "        vertical-align: top;\n",
       "    }\n",
       "\n",
       "    .dataframe thead th {\n",
       "        text-align: right;\n",
       "    }\n",
       "</style>\n",
       "<table border=\"1\" class=\"dataframe\">\n",
       "  <thead>\n",
       "    <tr style=\"text-align: right;\">\n",
       "      <th></th>\n",
       "      <th>Bauteil</th>\n",
       "      <th>Fläche</th>\n",
       "      <th>U-Wert</th>\n",
       "      <th>Temperatur-Korrekturfaktor</th>\n",
       "    </tr>\n",
       "  </thead>\n",
       "  <tbody>\n",
       "    <tr>\n",
       "      <th>0</th>\n",
       "      <td>Außenwand (brutto)</td>\n",
       "      <td>1075.2</td>\n",
       "      <td>0.30</td>\n",
       "      <td>1</td>\n",
       "    </tr>\n",
       "    <tr>\n",
       "      <th>1</th>\n",
       "      <td>Dach</td>\n",
       "      <td>360.0</td>\n",
       "      <td>0.15</td>\n",
       "      <td>1</td>\n",
       "    </tr>\n",
       "    <tr>\n",
       "      <th>2</th>\n",
       "      <td>Fußboden</td>\n",
       "      <td>360.0</td>\n",
       "      <td>0.40</td>\n",
       "      <td>1</td>\n",
       "    </tr>\n",
       "  </tbody>\n",
       "</table>\n",
       "</div>"
      ],
      "text/plain": [
       "              Bauteil  Fläche  U-Wert  Temperatur-Korrekturfaktor\n",
       "0  Außenwand (brutto)  1075.2    0.30                           1\n",
       "1                Dach   360.0    0.15                           1\n",
       "2            Fußboden   360.0    0.40                           1"
      ]
     },
     "execution_count": 2,
     "metadata": {},
     "output_type": "execute_result"
    }
   ],
   "source": [
    "import pandas as pd\n",
    "\n",
    "hull = pd.read_excel(\"data/building.xlsx\", sheet_name=\"thermal_hull\")\n",
    "hull"
   ]
  },
  {
   "cell_type": "code",
   "execution_count": 7,
   "id": "known-brain",
   "metadata": {},
   "outputs": [
    {
     "name": "stdout",
     "output_type": "stream",
     "text": [
      "Collecting openpyxl\n",
      "  Downloading openpyxl-3.0.7-py2.py3-none-any.whl (243 kB)\n",
      "Collecting et-xmlfile\n",
      "  Using cached et_xmlfile-1.0.1-py3-none-any.whl\n",
      "Installing collected packages: et-xmlfile, openpyxl\n",
      "Successfully installed et-xmlfile-1.0.1 openpyxl-3.0.7\n"
     ]
    }
   ],
   "source": []
  },
  {
   "cell_type": "markdown",
   "id": "international-observer",
   "metadata": {},
   "source": [
    "Ermitteln Sie die insgesamte Fläche der thermischen Hülle $A_B$ "
   ]
  },
  {
   "cell_type": "code",
   "execution_count": 3,
   "id": "sitting-dating",
   "metadata": {},
   "outputs": [
    {
     "name": "stdout",
     "output_type": "stream",
     "text": [
      "A_B = 1795.20 m²\n"
     ]
    }
   ],
   "source": [
    "A_B = hull[\"Fläche\"].sum()\n",
    "print(f\"A_B = {A_B:.2f} m²\")"
   ]
  },
  {
   "cell_type": "markdown",
   "id": "indian-peeing",
   "metadata": {},
   "source": [
    "Erstellen Sie eine Funktion *thermal_hull*, die als Input den Pfad des building.xlsx entgegennimmt und einen pandas Dataframe ausgibt. Testen Sie die Funktion mit der Datei  **data/building2.xslx**"
   ]
  },
  {
   "cell_type": "code",
   "execution_count": 16,
   "id": "anticipated-titanium",
   "metadata": {},
   "outputs": [],
   "source": [
    "def thermal_hull(path):\n",
    "    return pd.read_excel(path, sheet_name=\"thermal_hull\")"
   ]
  },
  {
   "cell_type": "code",
   "execution_count": 40,
   "id": "revolutionary-moral",
   "metadata": {},
   "outputs": [
    {
     "data": {
      "text/html": [
       "<div>\n",
       "<style scoped>\n",
       "    .dataframe tbody tr th:only-of-type {\n",
       "        vertical-align: middle;\n",
       "    }\n",
       "\n",
       "    .dataframe tbody tr th {\n",
       "        vertical-align: top;\n",
       "    }\n",
       "\n",
       "    .dataframe thead th {\n",
       "        text-align: right;\n",
       "    }\n",
       "</style>\n",
       "<table border=\"1\" class=\"dataframe\">\n",
       "  <thead>\n",
       "    <tr style=\"text-align: right;\">\n",
       "      <th></th>\n",
       "      <th>Bauteil</th>\n",
       "      <th>Fläche</th>\n",
       "      <th>U-Wert</th>\n",
       "      <th>Temperatur-Korrekturfaktor</th>\n",
       "    </tr>\n",
       "  </thead>\n",
       "  <tbody>\n",
       "    <tr>\n",
       "      <th>0</th>\n",
       "      <td>Außenwand (brutto)</td>\n",
       "      <td>15656</td>\n",
       "      <td>0.15</td>\n",
       "      <td>1</td>\n",
       "    </tr>\n",
       "    <tr>\n",
       "      <th>1</th>\n",
       "      <td>Dach</td>\n",
       "      <td>2660</td>\n",
       "      <td>0.12</td>\n",
       "      <td>1</td>\n",
       "    </tr>\n",
       "    <tr>\n",
       "      <th>2</th>\n",
       "      <td>Fußboden</td>\n",
       "      <td>2660</td>\n",
       "      <td>0.20</td>\n",
       "      <td>1</td>\n",
       "    </tr>\n",
       "  </tbody>\n",
       "</table>\n",
       "</div>"
      ],
      "text/plain": [
       "              Bauteil  Fläche  U-Wert  Temperatur-Korrekturfaktor\n",
       "0  Außenwand (brutto)   15656    0.15                           1\n",
       "1                Dach    2660    0.12                           1\n",
       "2            Fußboden    2660    0.20                           1"
      ]
     },
     "execution_count": 40,
     "metadata": {},
     "output_type": "execute_result"
    }
   ],
   "source": [
    "hull = thermal_hull(\"data/building2.xlsx\")\n",
    "hull"
   ]
  },
  {
   "cell_type": "markdown",
   "id": "nasty-niagara",
   "metadata": {},
   "source": [
    "### Transmissions-Leitwert der Gebäudehülle\n",
    "Ermitteln Sie den Transmission-Leitwert der Bauteile\n",
    "$L_B =\\sum_if_iU_iA_i[W/K]$\n"
   ]
  },
  {
   "cell_type": "code",
   "execution_count": 21,
   "id": "intermediate-synthetic",
   "metadata": {},
   "outputs": [
    {
     "data": {
      "text/html": [
       "<div>\n",
       "<style scoped>\n",
       "    .dataframe tbody tr th:only-of-type {\n",
       "        vertical-align: middle;\n",
       "    }\n",
       "\n",
       "    .dataframe tbody tr th {\n",
       "        vertical-align: top;\n",
       "    }\n",
       "\n",
       "    .dataframe thead th {\n",
       "        text-align: right;\n",
       "    }\n",
       "</style>\n",
       "<table border=\"1\" class=\"dataframe\">\n",
       "  <thead>\n",
       "    <tr style=\"text-align: right;\">\n",
       "      <th></th>\n",
       "      <th>Bauteil</th>\n",
       "      <th>Fläche</th>\n",
       "      <th>U-Wert</th>\n",
       "      <th>Temperatur-Korrekturfaktor</th>\n",
       "      <th>L_B</th>\n",
       "    </tr>\n",
       "  </thead>\n",
       "  <tbody>\n",
       "    <tr>\n",
       "      <th>0</th>\n",
       "      <td>Außenwand (brutto)</td>\n",
       "      <td>15656</td>\n",
       "      <td>0.15</td>\n",
       "      <td>1</td>\n",
       "      <td>2348.4</td>\n",
       "    </tr>\n",
       "    <tr>\n",
       "      <th>1</th>\n",
       "      <td>Dach</td>\n",
       "      <td>2660</td>\n",
       "      <td>0.12</td>\n",
       "      <td>1</td>\n",
       "      <td>319.2</td>\n",
       "    </tr>\n",
       "    <tr>\n",
       "      <th>2</th>\n",
       "      <td>Fußboden</td>\n",
       "      <td>2660</td>\n",
       "      <td>0.20</td>\n",
       "      <td>1</td>\n",
       "      <td>532.0</td>\n",
       "    </tr>\n",
       "  </tbody>\n",
       "</table>\n",
       "</div>"
      ],
      "text/plain": [
       "              Bauteil  Fläche  U-Wert  Temperatur-Korrekturfaktor     L_B\n",
       "0  Außenwand (brutto)   15656    0.15                           1  2348.4\n",
       "1                Dach    2660    0.12                           1   319.2\n",
       "2            Fußboden    2660    0.20                           1   532.0"
      ]
     },
     "execution_count": 21,
     "metadata": {},
     "output_type": "execute_result"
    }
   ],
   "source": [
    "hull[\"L_B\"] = hull[\"Fläche\"] * hull[\"U-Wert\"] * hull[\"Temperatur-Korrekturfaktor\"]\n",
    "hull"
   ]
  },
  {
   "cell_type": "code",
   "execution_count": 23,
   "id": "allied-surfing",
   "metadata": {},
   "outputs": [
    {
     "name": "stdout",
     "output_type": "stream",
     "text": [
      "L_B = 3199.60 W/K\n"
     ]
    }
   ],
   "source": [
    "L_B = hull.L_B.sum()\n",
    "print(f\"L_B = {L_B:.2f} W/K\")"
   ]
  },
  {
   "cell_type": "markdown",
   "id": "theoretical-millennium",
   "metadata": {},
   "source": [
    "Ermitteln Sie die Leitwert-Zuschläge $L_\\psi+L_\\chi$ entsprechend dem vereinfachten Ansatz:\n",
    "$L_\\psi+L_\\chi = 0.2(0.75 - \\frac{L_B}{A_B})A_B \\geq 0  [W/K]$"
   ]
  },
  {
   "cell_type": "code",
   "execution_count": null,
   "id": "drawn-necklace",
   "metadata": {},
   "outputs": [],
   "source": []
  },
  {
   "cell_type": "code",
   "execution_count": 24,
   "id": "cooperative-breeding",
   "metadata": {},
   "outputs": [
    {
     "name": "stdout",
     "output_type": "stream",
     "text": [
      "L_PX = 0.00 W/K\n"
     ]
    }
   ],
   "source": [
    "L_PX = max(0, (0.2*(0.75-L_B/A_B)*L_B))\n",
    "\n",
    "print(f\"L_PX = {L_PX:.2f} W/K\")"
   ]
  },
  {
   "cell_type": "markdown",
   "id": "received-hungary",
   "metadata": {},
   "source": [
    "Erstellen Sie eine Funktion *L_T*, die einen *thermal_hull* Pandas Dataframe entgegennimmt und den Transmissions-Leitwert der Gebäudehülle $L_T = L_B + L_\\psi+L_\\chi$ zurückgibt. Testen Sie die Funktion mit dem davor erstellten Dataframe"
   ]
  },
  {
   "cell_type": "code",
   "execution_count": 25,
   "id": "inside-disclosure",
   "metadata": {},
   "outputs": [],
   "source": [
    "def L_T(hull_df): # expects a pandas dataframe as input\n",
    "    A_B = hull_df[\"Fläche\"].sum()\n",
    "    hull_df[\"L_B\"] = hull_df[\"Fläche\"] * hull_df[\"U-Wert\"] * hull_df[\"Temperatur-Korrekturfaktor\"]\n",
    "    L_B = hull_df.L_B.sum()\n",
    "    L_PX = max(0, (0.2*(0.75-L_B/A_B)*L_B))\n",
    "    L_T = L_B + L_PX\n",
    "    return L_T"
   ]
  },
  {
   "cell_type": "code",
   "execution_count": 26,
   "id": "conservative-instrumentation",
   "metadata": {},
   "outputs": [
    {
     "name": "stdout",
     "output_type": "stream",
     "text": [
      "L_T = 3581.93 W/K\n"
     ]
    }
   ],
   "source": [
    "print(f\"L_T = {L_T(hull):.2f} W/K\")"
   ]
  },
  {
   "cell_type": "markdown",
   "id": "hybrid-garden",
   "metadata": {},
   "source": [
    "Verwenden Sie abschließend die beiden erstellten Funktionen *thermal_hull* und *L_T* um in je einer Zeile die Leitwert der beiden Test-Gebäude *building.xlsx* und *building2.xlsx* darzustellen "
   ]
  },
  {
   "cell_type": "code",
   "execution_count": 30,
   "id": "second-violation",
   "metadata": {},
   "outputs": [
    {
     "name": "stdout",
     "output_type": "stream",
     "text": [
      "building.xlsx: 568.4543037433154\n",
      "building2.xlsx: 3581.9290144927536\n"
     ]
    }
   ],
   "source": [
    "print(\"building.xlsx:\",L_T(thermal_hull(\"data/building.xlsx\")))\n",
    "print(\"building2.xlsx:\",L_T(thermal_hull(\"data/building2.xlsx\")))"
   ]
  },
  {
   "cell_type": "markdown",
   "id": "proper-county",
   "metadata": {},
   "source": [
    "### Fenster\n",
    "Ergänzen Sie im *hull* Dataframe zwei Zeilen: \"AW (Opak)\" und \"Fenster\". Teilen Sie dazu die Brutto-Außenwand im Verhältnis 60:40 auf und ergänzen Sie für die Fenster einen U-Wert von 1.5 W/m²K "
   ]
  },
  {
   "cell_type": "code",
   "execution_count": 160,
   "id": "assured-tunisia",
   "metadata": {},
   "outputs": [
    {
     "data": {
      "text/plain": [
       "1075.2"
      ]
     },
     "execution_count": 160,
     "metadata": {},
     "output_type": "execute_result"
    }
   ],
   "source": [
    "hull = thermal_hull(\"data/building.xlsx\")\n",
    "aw_A = hull.loc[0,\"Fläche\"]\n",
    "aw_A\n"
   ]
  },
  {
   "cell_type": "code",
   "execution_count": 161,
   "id": "minus-brook",
   "metadata": {},
   "outputs": [
    {
     "data": {
      "text/plain": [
       "430.08000000000004"
      ]
     },
     "execution_count": 161,
     "metadata": {},
     "output_type": "execute_result"
    }
   ],
   "source": [
    "aw_opak_A = aw_A * 0.6\n",
    "fenster_A = aw_A * 0.4\n",
    "fenster_A"
   ]
  },
  {
   "cell_type": "code",
   "execution_count": 162,
   "id": "optical-monday",
   "metadata": {},
   "outputs": [
    {
     "data": {
      "text/html": [
       "<div>\n",
       "<style scoped>\n",
       "    .dataframe tbody tr th:only-of-type {\n",
       "        vertical-align: middle;\n",
       "    }\n",
       "\n",
       "    .dataframe tbody tr th {\n",
       "        vertical-align: top;\n",
       "    }\n",
       "\n",
       "    .dataframe thead th {\n",
       "        text-align: right;\n",
       "    }\n",
       "</style>\n",
       "<table border=\"1\" class=\"dataframe\">\n",
       "  <thead>\n",
       "    <tr style=\"text-align: right;\">\n",
       "      <th></th>\n",
       "      <th>Bauteil</th>\n",
       "      <th>Fläche</th>\n",
       "      <th>U-Wert</th>\n",
       "      <th>Temperatur-Korrekturfaktor</th>\n",
       "    </tr>\n",
       "  </thead>\n",
       "  <tbody>\n",
       "    <tr>\n",
       "      <th>0</th>\n",
       "      <td>Außenwand (brutto)</td>\n",
       "      <td>1075.2</td>\n",
       "      <td>0.30</td>\n",
       "      <td>1</td>\n",
       "    </tr>\n",
       "    <tr>\n",
       "      <th>1</th>\n",
       "      <td>Dach</td>\n",
       "      <td>360.0</td>\n",
       "      <td>0.15</td>\n",
       "      <td>1</td>\n",
       "    </tr>\n",
       "    <tr>\n",
       "      <th>2</th>\n",
       "      <td>Fußboden</td>\n",
       "      <td>360.0</td>\n",
       "      <td>0.40</td>\n",
       "      <td>1</td>\n",
       "    </tr>\n",
       "  </tbody>\n",
       "</table>\n",
       "</div>"
      ],
      "text/plain": [
       "              Bauteil  Fläche  U-Wert  Temperatur-Korrekturfaktor\n",
       "0  Außenwand (brutto)  1075.2    0.30                           1\n",
       "1                Dach   360.0    0.15                           1\n",
       "2            Fußboden   360.0    0.40                           1"
      ]
     },
     "execution_count": 162,
     "metadata": {},
     "output_type": "execute_result"
    }
   ],
   "source": [
    "hull"
   ]
  },
  {
   "cell_type": "code",
   "execution_count": 163,
   "id": "accompanied-leave",
   "metadata": {},
   "outputs": [
    {
     "data": {
      "text/plain": [
       "568.4543037433154"
      ]
     },
     "execution_count": 163,
     "metadata": {},
     "output_type": "execute_result"
    }
   ],
   "source": [
    "L_T(hull)"
   ]
  },
  {
   "cell_type": "code",
   "execution_count": 164,
   "id": "confidential-romance",
   "metadata": {},
   "outputs": [
    {
     "data": {
      "text/plain": [
       "{'Bauteil': 'AW (opak)',\n",
       " 'Fläche': 645.12,\n",
       " 'U-Wert': 0.3,\n",
       " 'Temperatur-Korrekturfaktor': 1}"
      ]
     },
     "execution_count": 164,
     "metadata": {},
     "output_type": "execute_result"
    }
   ],
   "source": [
    "aw_opak = dict(zip(hull.columns,[\"AW (opak)\", aw_opak_A, hull.loc[0,\"U-Wert\"], hull.loc[0,\"Temperatur-Korrekturfaktor\"]]))\n",
    "aw_opak"
   ]
  },
  {
   "cell_type": "code",
   "execution_count": 165,
   "id": "clear-geology",
   "metadata": {},
   "outputs": [
    {
     "data": {
      "text/html": [
       "<div>\n",
       "<style scoped>\n",
       "    .dataframe tbody tr th:only-of-type {\n",
       "        vertical-align: middle;\n",
       "    }\n",
       "\n",
       "    .dataframe tbody tr th {\n",
       "        vertical-align: top;\n",
       "    }\n",
       "\n",
       "    .dataframe thead th {\n",
       "        text-align: right;\n",
       "    }\n",
       "</style>\n",
       "<table border=\"1\" class=\"dataframe\">\n",
       "  <thead>\n",
       "    <tr style=\"text-align: right;\">\n",
       "      <th></th>\n",
       "      <th>Bauteil</th>\n",
       "      <th>Fläche</th>\n",
       "      <th>U-Wert</th>\n",
       "      <th>Temperatur-Korrekturfaktor</th>\n",
       "      <th>L_B</th>\n",
       "    </tr>\n",
       "  </thead>\n",
       "  <tbody>\n",
       "    <tr>\n",
       "      <th>0</th>\n",
       "      <td>Außenwand (brutto)</td>\n",
       "      <td>1075.20</td>\n",
       "      <td>0.30</td>\n",
       "      <td>1</td>\n",
       "      <td>322.56</td>\n",
       "    </tr>\n",
       "    <tr>\n",
       "      <th>1</th>\n",
       "      <td>Dach</td>\n",
       "      <td>360.00</td>\n",
       "      <td>0.15</td>\n",
       "      <td>1</td>\n",
       "      <td>54.00</td>\n",
       "    </tr>\n",
       "    <tr>\n",
       "      <th>2</th>\n",
       "      <td>Fußboden</td>\n",
       "      <td>360.00</td>\n",
       "      <td>0.40</td>\n",
       "      <td>1</td>\n",
       "      <td>144.00</td>\n",
       "    </tr>\n",
       "    <tr>\n",
       "      <th>3</th>\n",
       "      <td>AW (opak)</td>\n",
       "      <td>645.12</td>\n",
       "      <td>0.30</td>\n",
       "      <td>1</td>\n",
       "      <td>NaN</td>\n",
       "    </tr>\n",
       "  </tbody>\n",
       "</table>\n",
       "</div>"
      ],
      "text/plain": [
       "              Bauteil   Fläche  U-Wert  Temperatur-Korrekturfaktor     L_B\n",
       "0  Außenwand (brutto)  1075.20    0.30                           1  322.56\n",
       "1                Dach   360.00    0.15                           1   54.00\n",
       "2            Fußboden   360.00    0.40                           1  144.00\n",
       "3           AW (opak)   645.12    0.30                           1     NaN"
      ]
     },
     "execution_count": 165,
     "metadata": {},
     "output_type": "execute_result"
    }
   ],
   "source": [
    "hull = hull.append(aw_opak, ignore_index = True)\n",
    "hull"
   ]
  },
  {
   "cell_type": "code",
   "execution_count": 166,
   "id": "heavy-cameroon",
   "metadata": {},
   "outputs": [
    {
     "data": {
      "text/html": [
       "<div>\n",
       "<style scoped>\n",
       "    .dataframe tbody tr th:only-of-type {\n",
       "        vertical-align: middle;\n",
       "    }\n",
       "\n",
       "    .dataframe tbody tr th {\n",
       "        vertical-align: top;\n",
       "    }\n",
       "\n",
       "    .dataframe thead th {\n",
       "        text-align: right;\n",
       "    }\n",
       "</style>\n",
       "<table border=\"1\" class=\"dataframe\">\n",
       "  <thead>\n",
       "    <tr style=\"text-align: right;\">\n",
       "      <th></th>\n",
       "      <th>Bauteil</th>\n",
       "      <th>Fläche</th>\n",
       "      <th>U-Wert</th>\n",
       "      <th>Temperatur-Korrekturfaktor</th>\n",
       "      <th>L_B</th>\n",
       "    </tr>\n",
       "  </thead>\n",
       "  <tbody>\n",
       "    <tr>\n",
       "      <th>0</th>\n",
       "      <td>Außenwand (brutto)</td>\n",
       "      <td>1075.20</td>\n",
       "      <td>0.30</td>\n",
       "      <td>1</td>\n",
       "      <td>322.56</td>\n",
       "    </tr>\n",
       "    <tr>\n",
       "      <th>1</th>\n",
       "      <td>Dach</td>\n",
       "      <td>360.00</td>\n",
       "      <td>0.15</td>\n",
       "      <td>1</td>\n",
       "      <td>54.00</td>\n",
       "    </tr>\n",
       "    <tr>\n",
       "      <th>2</th>\n",
       "      <td>Fußboden</td>\n",
       "      <td>360.00</td>\n",
       "      <td>0.40</td>\n",
       "      <td>1</td>\n",
       "      <td>144.00</td>\n",
       "    </tr>\n",
       "    <tr>\n",
       "      <th>3</th>\n",
       "      <td>AW (opak)</td>\n",
       "      <td>645.12</td>\n",
       "      <td>0.30</td>\n",
       "      <td>1</td>\n",
       "      <td>NaN</td>\n",
       "    </tr>\n",
       "    <tr>\n",
       "      <th>4</th>\n",
       "      <td>Fenster</td>\n",
       "      <td>430.08</td>\n",
       "      <td>1.50</td>\n",
       "      <td>1</td>\n",
       "      <td>NaN</td>\n",
       "    </tr>\n",
       "  </tbody>\n",
       "</table>\n",
       "</div>"
      ],
      "text/plain": [
       "              Bauteil   Fläche  U-Wert  Temperatur-Korrekturfaktor     L_B\n",
       "0  Außenwand (brutto)  1075.20    0.30                           1  322.56\n",
       "1                Dach   360.00    0.15                           1   54.00\n",
       "2            Fußboden   360.00    0.40                           1  144.00\n",
       "3           AW (opak)   645.12    0.30                           1     NaN\n",
       "4             Fenster   430.08    1.50                           1     NaN"
      ]
     },
     "execution_count": 166,
     "metadata": {},
     "output_type": "execute_result"
    }
   ],
   "source": [
    "fenster = dict(zip(hull.columns,[\"Fenster\", fenster_A, 1.5, hull.loc[0,\"Temperatur-Korrekturfaktor\"]]))\n",
    "hull = hull.append(fenster, ignore_index = True)\n",
    "hull"
   ]
  },
  {
   "cell_type": "code",
   "execution_count": 167,
   "id": "uniform-hazard",
   "metadata": {},
   "outputs": [
    {
     "data": {
      "text/plain": [
       "1434.3729168160537"
      ]
     },
     "execution_count": 167,
     "metadata": {},
     "output_type": "execute_result"
    }
   ],
   "source": [
    "L_T(hull)"
   ]
  },
  {
   "cell_type": "markdown",
   "id": "primary-hybrid",
   "metadata": {},
   "source": [
    "Erstellen Sie eine Funktion *insert_windows*, die diese Ergänzungen im Dataframe durchführen und  den U-Wert des fensters und den Fensterflächen-Anteil als Variable nehmen und einen aktualisierten Dataframe zurückgeben. Löschen Sie davor den Eintrag AW (brutto). Testen Sie, ob die Leitwertberechnung L_T() mit dem aktualisierten Dataframe funktioniert.  \n",
    "> Hint: https://www.shanelynn.ie/pandas-drop-delete-dataframe-rows-columns/\n"
   ]
  },
  {
   "cell_type": "code",
   "execution_count": 168,
   "id": "hollow-startup",
   "metadata": {},
   "outputs": [],
   "source": [
    "def insert_windows(hull_df, u_f, ff_anteil):\n",
    "    aw_A = hull_df.loc[0,\"Fläche\"]\n",
    "    aw_opak_A = aw_A * (1-ff_anteil)\n",
    "    fenster_A = aw_A * ff_anteil\n",
    "    \n",
    "    aw_opak = dict(zip(hull_df.columns,[\"AW (opak)\", aw_opak_A, hull_df.loc[0,\"U-Wert\"], hull_df.loc[0,\"Temperatur-Korrekturfaktor\"]]))\n",
    "    fenster = dict(zip(hull_df.columns,[\"Fenster\", fenster_A, u_f, hull_df.loc[0,\"Temperatur-Korrekturfaktor\"]]))\n",
    "    \n",
    "    hull_df = hull_df.append(aw_opak, ignore_index = True)\n",
    "    hull_df = hull_df.append(fenster, ignore_index = True)\n",
    "    hull_df.drop(hull_df.index[0], inplace=True)\n",
    "    return hull_df\n",
    "\n"
   ]
  },
  {
   "cell_type": "code",
   "execution_count": null,
   "id": "curious-western",
   "metadata": {},
   "outputs": [],
   "source": [
    "hull2 = insert_windows(thermal_hull(\"data/building.xlsx\"), u_f=1.5, ff_anteil=0.4)\n",
    "hull2"
   ]
  },
  {
   "cell_type": "code",
   "execution_count": null,
   "id": "ordered-analysis",
   "metadata": {},
   "outputs": [],
   "source": [
    "L_T(hull2)"
   ]
  }
 ],
 "metadata": {
  "kernelspec": {
   "display_name": "Simulation",
   "language": "python",
   "name": "simulation"
  },
  "language_info": {
   "codemirror_mode": {
    "name": "ipython",
    "version": 3
   },
   "file_extension": ".py",
   "mimetype": "text/x-python",
   "name": "python",
   "nbconvert_exporter": "python",
   "pygments_lexer": "ipython3",
   "version": "3.8.5"
  },
  "toc": {
   "base_numbering": 1,
   "nav_menu": {},
   "number_sections": true,
   "sideBar": true,
   "skip_h1_title": false,
   "title_cell": "Table of Contents",
   "title_sidebar": "Contents",
   "toc_cell": false,
   "toc_position": {},
   "toc_section_display": true,
   "toc_window_display": true
  }
 },
 "nbformat": 4,
 "nbformat_minor": 5
}
