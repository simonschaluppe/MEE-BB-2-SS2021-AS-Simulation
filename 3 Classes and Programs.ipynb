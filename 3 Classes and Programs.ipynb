{
 "cells": [
  {
   "cell_type": "markdown",
   "metadata": {
    "collapsed": true
   },
   "source": [
    "# Classes and Programs\n",
    "\n",
    "\n",
    "# Classes\n",
    "Introductory material:\n",
    "* https://docs.python.org/3/tutorial/classes.html (up to chapter 9.4)\n",
    "* https://www.pythoncentral.io/introduction-to-python-classes/\n",
    "* https://www.youtube.com/watch?v=LwOg0b0ZwCM\n",
    "* slow and detailed YT series: https://www.youtube.com/watch?v=ZDa-Z5JzLYM\n",
    "\n",
    "# Program structure\n",
    "* Again, dan beazley's course is the best here: https://dabeaz-course.github.io/practical-python/\n",
    "* Use scripts as modules or directly:  https://www.youtube.com/watch?v=lOeIDvyRUQs\n",
    "\n",
    "## Other\n",
    "* general tips for writing python: https://www.youtube.com/watch?v=C-gEQdGVXbk&t=61s"
   ]
  }
 ],
 "metadata": {
  "kernelspec": {
   "display_name": "Python 3",
   "language": "python",
   "name": "python3"
  },
  "language_info": {
   "codemirror_mode": {
    "name": "ipython",
    "version": 3
   },
   "file_extension": ".py",
   "mimetype": "text/x-python",
   "name": "python",
   "nbconvert_exporter": "python",
   "pygments_lexer": "ipython3",
   "version": "3.8.5"
  },
  "toc": {
   "base_numbering": 1,
   "nav_menu": {},
   "number_sections": true,
   "sideBar": true,
   "skip_h1_title": false,
   "title_cell": "Table of Contents",
   "title_sidebar": "Contents",
   "toc_cell": false,
   "toc_position": {},
   "toc_section_display": true,
   "toc_window_display": false
  }
 },
 "nbformat": 4,
 "nbformat_minor": 1
}