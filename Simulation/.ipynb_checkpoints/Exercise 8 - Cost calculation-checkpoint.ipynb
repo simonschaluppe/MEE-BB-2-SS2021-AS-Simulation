{
 "cells": [
  {
   "cell_type": "markdown",
   "id": "brilliant-guinea",
   "metadata": {},
   "source": [
    "# Cost calculation\n",
    "The final step of the simulation model is to include parameters and methods to calculate the investment, operational and resulting total cost of the System described by the model. To this end, you will make the following adjustments:\n"
   ]
  },
  {
   "cell_type": "markdown",
   "id": "consecutive-positive",
   "metadata": {},
   "source": []
  }
 ],
 "metadata": {
  "kernelspec": {
   "display_name": "Simulation",
   "language": "python",
   "name": "simulation"
  },
  "language_info": {
   "codemirror_mode": {
    "name": "ipython",
    "version": 3
   },
   "file_extension": ".py",
   "mimetype": "text/x-python",
   "name": "python",
   "nbconvert_exporter": "python",
   "pygments_lexer": "ipython3",
   "version": "3.8.5"
  },
  "toc": {
   "base_numbering": 1,
   "nav_menu": {},
   "number_sections": true,
   "sideBar": true,
   "skip_h1_title": false,
   "title_cell": "Table of Contents",
   "title_sidebar": "Contents",
   "toc_cell": false,
   "toc_position": {},
   "toc_section_display": true,
   "toc_window_display": false
  }
 },
 "nbformat": 4,
 "nbformat_minor": 5
}
