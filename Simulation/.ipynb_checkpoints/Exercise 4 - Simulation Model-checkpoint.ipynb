{
 "cells": [
  {
   "cell_type": "markdown",
   "id": "silver-sympathy",
   "metadata": {},
   "source": [
    "# Simulations Modell\n",
    "In dieser Übung beginnen Sie mit dem Aufbau des Simulationsmodells, das in den anschließenden Übungen sukzessive ausgebaut wird \n",
    "\n",
    "\n",
    "## Thermisches Gebäudemodell\n",
    "In einem ersten Schritt soll das Simulationsmodell ein einfaches thermisches Gebäude-Modell beinhalten, das den stündlichen Heizwärmebedarf und Kühlbedarf auf Basis eines Klimadatensatzes, der thermischen Hülle des Gebäudes und gegebener Nutzungsprofile ermitteln kann.\n",
    "\n",
    "* Legen Sie ein File ``Simulation.py`` an und schreiben Sie darin eine neue Klasse ``Model``.\n",
    "\n",
    "Beim Programmdesign ist es oft eine gute Idee,  von hinten - also den gewünschten Resultaten - auszugehen und sich von dort stückweit nach vorne zu hangeln, indem man jeweils die unmittelbaren Inputs der Resultate beschreibt, und dann deren Inputs und so weiter, bis man wo ankommt, wo man die Inputs hat. Dh.\n",
    "\n",
    "**Gewünschtes Resultat**\n",
    "\n",
    "QH, QC, Heiz und Kühlbedarf zu jeder Stunde\n",
    "\n",
    "**Inputs 1**\n",
    "Wärmebilanz zur Stunde $t$: $ 0 = Q_{V,t} + Q_{T,t} + Q_{I,t} + Q_{S,t} + Q_{H,t} + Q_{C,t}$\n",
    "\n",
    "Daraus \n",
    "\n",
    "**Inputs** $Q_{V,t} = dT * ach_{airchange} * h_{room} * c_{p,air}$\n",
    "\n",
    "**Inputs** $Q_{T,t} = ...$\n",
    "\n",
    "**Inputs** $Q_{I,t} = ...$ stehen in data/usage.csv in Spalte QI_Winter/Sommer als Wh/m²\n",
    "\n",
    "**Inputs** $Q_{S,t} = ...$ stehen in data/Solar_Gains.csv als Wh/m²\n",
    "\n",
    "Und so weiter, bis alle nötigen Inputs identifiziert sind und klar ist, wo sie herkommen.\n",
    "\n",
    "### ``__init__``\n",
    "\n",
    "Die **``__init__()``** Methode wird im Zuge der Erstellung des Simulationsmodells laufend erweitert werden, fürs erste sollte sie folgendes beinhalten:\n",
    "1. ``self.building`` eine Instanz der Building-class aus Exercise 4, die alle gebäudebezogenen Daten enthält und dem Modell zugänglich macht\n",
    "2.  load **Usage characteristics** as a pandas dataframe (eg. ``self.usage``) from a \"data/usage_profiles.csv\" file\n",
    "3. load the outdoor temperature from the ``\"data/climate.csv\"`` file like in Exercise 1 into a numpy array ``self.TA``\n",
    "4. load the solar gains from the ``\"data/Solar_gains.csv\"`` file like in Exercise 1 into a numpy array ``self.QS``\n",
    "\n",
    "\n"
   ]
  },
  {
   "cell_type": "markdown",
   "id": "hundred-spokesman",
   "metadata": {},
   "source": [
    "### The \"simulate\" Method\n",
    "Now lets start to create a method ``simulate(self)`` that iterates through 8760 steps t in a for-loop and calculates the corresponding energy flows at that time t like such:\n",
    "````\n",
    "    def simulate(self):\n",
    "        self.init_sim() # don't forget to intialize the first timestep = 0 \n",
    "                        # with sensible starting values like TI[0] = self.minimum_room_temperature\n",
    "        for t in range(1, 8760):\n",
    "            #### Verluste\n",
    "            self.calc_QV(t)\n",
    "            self.calc_QT(t)\n",
    "            self.handle_losses(t)\n",
    "\n",
    "            #### Heizung\n",
    "            self.handle_heating(t)\n",
    "\n",
    "            #### Kühlung\n",
    "            self.handle_cooling(t)\n",
    "return True # if simulation was succesful, return true\n",
    "````"
   ]
  },
  {
   "cell_type": "markdown",
   "id": "federal-quest",
   "metadata": {},
   "source": [
    "### Simulation initialization\n",
    "5. Initialize the following variables as numpy zero arrays (``= np.zeros(8760)``):\n",
    "* Input data from self.usage dataframe as numpy arrays with ``df[\"columnname\"].to_numpy()``:\n",
    "    *   ``self.QI_winter = self.Usage[\"Qi Winter W/m²\"].to_numpy()`` INterne GEwinne Winter\n",
    "    *   ``self.QI_summer`` Interne GEwinne Sommer\n",
    "    *   ``self.QI`` Interne Gewinne als Kombination von Sommer und Winter, fürs erste = QI_winter\n",
    "    *   ``self.ACH_V`` Air change per hour through ventilation\n",
    "    *   ``self.ACH_I`` Air change per hour through infiltration\n",
    "* Initialize the following variables as numpy zero arrays (``= np.zeros(8760)``):\n",
    "    * ``self.QV`` Ventilation losses\n",
    "    * ``self.QT`` transmission losses\n",
    "    * ``self.TI`` indoor temperature\n",
    "    * ``self.Q_loss`` total thermal losses/gains\n",
    "    * ``self.QH`` Heating demand\n",
    "    * ``self.QC`` cooling demand\n",
    "Finally, dont forget to initialize the first timestep t=0 with sensible with sensible starting values like TI[0] = self.minimum_ro"
   ]
  },
  {
   "cell_type": "markdown",
   "id": "sorted-wayne",
   "metadata": {},
   "source": [
    "### Calculation and Handling methods\n",
    "Note that each ``calc_x(self,t and handle_x(self, t)`` function is yet another method of the Model class and only takes the t timestamp to calculate the corresponding Energy flows and handle and record them by **saving it in the initialized result variable**: e.g. \n",
    "\n",
    "````\n",
    "def calc_QT(self, t):\n",
    "    \"\"\"Transmission heat losses [W/m²BGF] at timestep t\"\"\"\n",
    "    dT = self.TA[t - 1] - self.TI[t - 1] # Tempe\n",
    "    self.QT[t] = self.building.LT * dT \n",
    "````\n",
    "\n",
    "> **Attention:** There is an important design decision to take here: Are we calculating the results like the various Qs in **absolute terms (kWh)** or **specific (Wh/m²)**? Both approaches have pros and cons: Many inputs are available as absolute quantities (e.g. LTs), and can be used right away. On the other hand, many standard inputs like usage profiles are available as specific values.  For Result interpretation, plotting and analysis, it is usually also beneficial to use specific values. We therefore use the convention of also calculating our results in specific units [x/m²BGF] and convert to absolute figures only when we need it, e.g. for absolute cost calculation.\n",
    "\n",
    "> **System Boundaries**: As a signing convention, all energy flows INTO the system boundary should have POSITIVE sign (e.g. solar gains and heating), and all flows OUT of the system should be NEGATIVE (transmission losses, cooling)"
   ]
  },
  {
   "attachments": {},
   "cell_type": "markdown",
   "id": "deluxe-zambia",
   "metadata": {},
   "source": [
    "### Heating and Cooling Demand, Indoor Temperature\n",
    "Use the following forumla to calculate the Indoor Temperature at time t $T_{I,t}$ based on heat Loss or heat gains:\n",
    "\n",
    "$T_{I,t} = T_{I,t-1} + \\frac{Q_{loss,t}}{c_{p,building}}$ ($c_{p,building}$ = self.building.heat_capacity)\n",
    "\n",
    "Similarly, QH and QC are calculated from the difference to a setpoint temperature\n",
    "\n",
    "$Q_{H,t} = (T_{set,minimum} - T_{I,t}) * c_{p,building}$\n",
    "\n",
    "Introduce two new parameters as Model Attributes to the ``__init__`` function:\n",
    "* ``self.minimum_room_temperature``\n",
    "* ``self.maximum_room_temperature``\n",
    "\n"
   ]
  },
  {
   "cell_type": "markdown",
   "id": "subjective-thing",
   "metadata": {},
   "source": [
    "### test your first model\n",
    "Once you've implemented all this, its time to test it.\n",
    "Try instantiating your model by using the following code block at the end of your Model.py. Everytime you run the file itself, it will run this \"test\"-block.\n"
   ]
  },
  {
   "cell_type": "markdown",
   "id": "decimal-poultry",
   "metadata": {},
   "source": [
    "````if __name__ == \"__main__\":\n",
    "    m = Model()\n",
    "    m.simulate()\n",
    "    ````"
   ]
  },
  {
   "cell_type": "code",
   "execution_count": 1,
   "id": "vital-crossing",
   "metadata": {},
   "outputs": [
    {
     "data": {
      "text/plain": [
       "Simulation.Model"
      ]
     },
     "execution_count": 1,
     "metadata": {},
     "output_type": "execute_result"
    }
   ],
   "source": [
    "# you can also import the Model into a Notebook, just keep in mind, that\n",
    "# Jupyter notebooks import only once, not everytime you run the cell.\n",
    "# if you change the code to the model, you need to restart the Jupyter kernel or install an extension\n",
    "# called autoreload\n",
    "from Simulation import Model\n",
    "Model"
   ]
  },
  {
   "cell_type": "code",
   "execution_count": 2,
   "id": "heavy-optics",
   "metadata": {},
   "outputs": [
    {
     "name": "stdout",
     "output_type": "stream",
     "text": [
      "No csv-path given, loading from default data/pv_1kWp.csv...\n"
     ]
    },
    {
     "data": {
      "text/plain": [
       "<Simulation.Model at 0x19f75053730>"
      ]
     },
     "execution_count": 2,
     "metadata": {},
     "output_type": "execute_result"
    }
   ],
   "source": [
    "test = Model()\n",
    "test"
   ]
  },
  {
   "cell_type": "code",
   "execution_count": 3,
   "id": "revolutionary-edmonton",
   "metadata": {},
   "outputs": [
    {
     "data": {
      "text/plain": [
       "Building data/building.xlsx\n",
       "----------------------------\n",
       "bgf: 1000.0\n",
       "gf: 200.0\n",
       "heat_capacity: 2.8\n",
       "net_storey_height: 0.0\n",
       "LT: 0.5836395696898397"
      ]
     },
     "execution_count": 3,
     "metadata": {},
     "output_type": "execute_result"
    }
   ],
   "source": [
    "test.building"
   ]
  },
  {
   "cell_type": "code",
   "execution_count": 4,
   "id": "recovered-wallpaper",
   "metadata": {},
   "outputs": [
    {
     "data": {
      "text/plain": [
       "0.5836395696898397"
      ]
     },
     "execution_count": 4,
     "metadata": {},
     "output_type": "execute_result"
    }
   ],
   "source": [
    "test.building.LT"
   ]
  },
  {
   "cell_type": "code",
   "execution_count": 5,
   "id": "southeast-tulsa",
   "metadata": {},
   "outputs": [
    {
     "data": {
      "text/plain": [
       "array([0., 0., 0., ..., 0., 0., 0.])"
      ]
     },
     "execution_count": 5,
     "metadata": {},
     "output_type": "execute_result"
    }
   ],
   "source": [
    "test.QS"
   ]
  },
  {
   "cell_type": "code",
   "execution_count": 6,
   "id": "binary-quarter",
   "metadata": {},
   "outputs": [
    {
     "data": {
      "text/plain": [
       "83981.95"
      ]
     },
     "execution_count": 6,
     "metadata": {},
     "output_type": "execute_result"
    }
   ],
   "source": [
    "test.QS.sum() # Wh/m²a"
   ]
  },
  {
   "cell_type": "code",
   "execution_count": 7,
   "id": "convenient-playlist",
   "metadata": {},
   "outputs": [
    {
     "data": {
      "text/plain": [
       "True"
      ]
     },
     "execution_count": 7,
     "metadata": {},
     "output_type": "execute_result"
    }
   ],
   "source": [
    "test.simulate()"
   ]
  },
  {
   "cell_type": "code",
   "execution_count": 8,
   "id": "prerequisite-costa",
   "metadata": {},
   "outputs": [
    {
     "data": {
      "text/plain": [
       "30.965503373315098"
      ]
     },
     "execution_count": 8,
     "metadata": {},
     "output_type": "execute_result"
    }
   ],
   "source": [
    "test.QH.sum()/1000 # kWh/m²BGF"
   ]
  },
  {
   "cell_type": "code",
   "execution_count": 9,
   "id": "helpful-recovery",
   "metadata": {},
   "outputs": [
    {
     "data": {
      "text/plain": [
       "6.519053341750548"
      ]
     },
     "execution_count": 9,
     "metadata": {},
     "output_type": "execute_result"
    }
   ],
   "source": [
    "test.ED_QH.sum()/1000"
   ]
  },
  {
   "cell_type": "code",
   "execution_count": null,
   "id": "dressed-welcome",
   "metadata": {},
   "outputs": [],
   "source": []
  },
  {
   "cell_type": "markdown",
   "id": "general-belfast",
   "metadata": {},
   "source": [
    "### Plots\n",
    "Now that the model seems to work, create 2 methods in the Model class that plot the Heat balance and the INdoor/outdoor temperature:\n",
    "````\n",
    "    def plot_heat_balance(self, start, end): # optional arguments start:end\n",
    "        # create a plot\n",
    "        # plot QV, QT, QI, QS, QH, QC   \n",
    "        \n",
    "    def plot_temperature(self, start, end):# optional arguments start:end\n",
    "        # create a plot\n",
    "        # plot TA, TI  \n",
    "````\n",
    "you should be able to use these plots like this:\n"
   ]
  },
  {
   "cell_type": "code",
   "execution_count": 10,
   "id": "complete-foundation",
   "metadata": {},
   "outputs": [
    {
     "data": {
      "image/png": "[encoded data removed]",
      "text/plain": [
       "<Figure size 432x288 with 1 Axes>"
      ]
     },
     "metadata": {
      "needs_background": "light"
     },
     "output_type": "display_data"
    }
   ],
   "source": [
    "test.plot_heat_balance()\n"
   ]
  },
  {
   "cell_type": "code",
   "execution_count": 13,
   "id": "damaged-greene",
   "metadata": {},
   "outputs": [
    {
     "data": {
      "image/png": "[encoded data removed]",
      "text/plain": [
       "<Figure size 432x288 with 1 Axes>"
      ]
     },
     "metadata": {
      "needs_background": "light"
     },
     "output_type": "display_data"
    }
   ],
   "source": [
    "test.plot_temperatures()"
   ]
  }
 ],
 "metadata": {
  "kernelspec": {
   "display_name": "Simulation",
   "language": "python",
   "name": "simulation"
  },
  "language_info": {
   "codemirror_mode": {
    "name": "ipython",
    "version": 3
   },
   "file_extension": ".py",
   "mimetype": "text/x-python",
   "name": "python",
   "nbconvert_exporter": "python",
   "pygments_lexer": "ipython3",
   "version": "3.8.5"
  },
  "toc": {
   "base_numbering": 1,
   "nav_menu": {},
   "number_sections": true,
   "sideBar": true,
   "skip_h1_title": false,
   "title_cell": "Table of Contents",
   "title_sidebar": "Contents",
   "toc_cell": false,
   "toc_position": {},
   "toc_section_display": true,
   "toc_window_display": false
  }
 },
 "nbformat": 4,
 "nbformat_minor": 5
}
