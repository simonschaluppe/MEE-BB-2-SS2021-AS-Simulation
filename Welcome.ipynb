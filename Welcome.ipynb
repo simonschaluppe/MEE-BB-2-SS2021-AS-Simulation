{
 "cells": [
  {
   "cell_type": "markdown",
   "metadata": {
    "collapsed": true,
    "pycharm": {
     "name": "#%% md\n"
    }
   },
   "source": [
    "# Willkommen!\n",
    "\n",
    "Im ersten Teil des Python Kurses werden wir ausschließlich mit Jupyter Notebooks wie diesem hier arbeiten.\n",
    "\n",
    "\n",
    "Ziel der ersten Fernlehre ist es, mit Python und dem Jupyter Notebook vertraut zu werden.\n"
   ]
  },
  {
   "cell_type": "markdown",
   "source": [
    "### Erstes Programm\n",
    "* Neuen Ordner für den Kurs anlegen: rechts auf \"New\"->\"Folder\"\n",
    "* Ordner wird in Dateiübersicht als \"Untitled Folder\" angezeigt, umbenennen: Haken links neben Ordner setzen, oben auf \"rename\" und in \"MEE3-AS\" oder ähnliches Umbenennen\n",
    "* Wir werden alle benötigten Dateien und Skripts des Python Teils in diesem Ordner erstellen, ändern und speichern.\n",
    "* Mit Klick in Verzeichnis wechseln\n",
    "* Neues Python-Notebook anlegen: rechts \"New\"->\"Python 3\". Namen des Notebooks \"Untitled\" zu \"Übung 0\" ändern.\n",
    "* Es wird automatisch eine sogenannte _Zelle_ angelegt (=Python-Code, der zusammen gehört)\n",
    "* Einfügen der ersten Test-Anweisung:"
   ],
   "metadata": {
    "collapsed": false
   }
  },
  {
   "cell_type": "code",
   "execution_count": 1,
   "outputs": [
    {
     "name": "stdout",
     "output_type": "stream",
     "text": [
      "Hello World\n"
     ]
    }
   ],
   "source": [
    "print (\"Hello World\")"
   ],
   "metadata": {
    "collapsed": false,
    "pycharm": {
     "name": "#%%\n"
    }
   }
  },
  {
   "cell_type": "markdown",
   "source": [
    "* Ausführen der _Zelle_: 2 Möglichkeiten\n",
    "    * Klick auf \"Play-Button\" (\"Run this cell\")\n",
    "    * In Zelle: Strg+Enter drücken\n",
    "* Einfügen neue Zelle: \"+-Button\" in Menü\n",
    "* Autosave, aber manuell speichern über Save-Button möglich\n"
   ],
   "metadata": {
    "collapsed": false
   }
  },
  {
   "cell_type": "markdown",
   "source": [
    "Ausgezeichnet!\n",
    "\n",
    "Schau jetzt bei https://holypython.com/beginner-python-exercises/\n",
    "vorbei und lern/refresh deine Python Basics anhand der Übungen 1 - 10 und 15-18\n",
    "\n",
    "Wenn du Schwierigkeiten hast, lies in den entsprechenden Lektionen nach: https://holypython.com/beginner-python-lessons/\n",
    "\n",
    "Mach die Übungen direkt in deinem neu angelegten Notebook \"Übung 0\"\n",
    "\n",
    "\n",
    "Wenn du fertig bist, solltest du in der Lage sein, die Übungen hier https://pynative.com/python-basic-exercise-for-beginners/ selbstständig\n",
    "zu lösen, indem du verschiedene Python Konzepte miteinander verbindest.\n",
    "\n",
    "Abschließend, füll bitte das Feedback zum Selbststudium aus, um deinen Fortschritt zu dokumentieren"
   ],
   "metadata": {
    "collapsed": false,
    "pycharm": {
     "name": "#%% md\n"
    }
   }
  }
 ],
 "metadata": {
  "kernelspec": {
   "display_name": "Python 3",
   "language": "python",
   "name": "python3"
  },
  "language_info": {
   "codemirror_mode": {
    "name": "ipython",
    "version": 2
   },
   "file_extension": ".py",
   "mimetype": "text/x-python",
   "name": "python",
   "nbconvert_exporter": "python",
   "pygments_lexer": "ipython2",
   "version": "2.7.6"
  }
 },
 "nbformat": 4,
 "nbformat_minor": 0
}