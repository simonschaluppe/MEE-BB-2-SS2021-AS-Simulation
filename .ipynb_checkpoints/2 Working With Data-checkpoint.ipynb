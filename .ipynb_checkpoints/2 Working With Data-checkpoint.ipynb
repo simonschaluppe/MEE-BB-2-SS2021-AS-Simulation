{
 "cells": [
  {
   "cell_type": "markdown",
   "id": "pleased-retrieval",
   "metadata": {},
   "source": [
    "# Working with data\n",
    "In this chapter, we are looking at common data preparation tasks and\n",
    "how they can be accomplished using the python ecosystem with\n",
    "dedicated libraries.\n",
    "\n",
    "We look at three core libraries: \n",
    "* Numpy\n",
    "* Matplotlib\n",
    "* Pandas"
   ]
  },
  {
   "cell_type": "markdown",
   "id": "strange-substitute",
   "metadata": {},
   "source": [
    "## Introduction to Numpy\n",
    "As always, make the best use of the best ressources out there:\n",
    "\n",
    "https://numpy.org/devdocs/user/absolute_beginners.html \n",
    "\n",
    "https://nbviewer.jupyter.org/github/jrjohansson/scientific-python-lectures/blob/master/Lecture-2-Numpy.ipynb \n",
    "https://www.youtube.com/watch?v=GB9ByFAIAH4![grafik.png](attachment:grafik.png)"
   ]
  },
  {
   "cell_type": "markdown",
   "id": "electric-blank",
   "metadata": {},
   "source": [
    "#### What we need\n",
    "Numpy is a very powerful library used in academia and engineering.\n",
    "\n",
    "We can only scratch the surface in this course.\n",
    "\n",
    "We focus on the use as our **Time Series Data Holder**.\n",
    "\n",
    "It is fast and we won't get in trouble manipulating and looping through large numbers of timesteps \n",
    "\n",
    "Here is a good Introduction:\n",
    "https://github.com/jrjohansson/scientific-python-lectures/blob/master/Lecture-2-Numpy.ipynb"
   ]
  },
  {
   "cell_type": "code",
   "execution_count": null,
   "id": "previous-stereo",
   "metadata": {},
   "outputs": [],
   "source": [
    "import numpy as np\n",
    "a2 = np.arange(10)\n",
    "a2\n"
   ]
  },
  {
   "cell_type": "code",
   "execution_count": null,
   "id": "comparative-holiday",
   "metadata": {},
   "outputs": [],
   "source": [
    "a = np.linspace(1,100,10)\n",
    "a"
   ]
  },
  {
   "cell_type": "code",
   "execution_count": null,
   "id": "opposite-explanation",
   "metadata": {},
   "outputs": [],
   "source": [
    "z = np.zeros(8760)\n",
    "len(z)"
   ]
  },
  {
   "cell_type": "code",
   "execution_count": null,
   "id": "jewish-arena",
   "metadata": {},
   "outputs": [],
   "source": [
    "z.shape"
   ]
  },
  {
   "cell_type": "code",
   "execution_count": null,
   "id": "fluid-sleeping",
   "metadata": {},
   "outputs": [],
   "source": [
    "z.size"
   ]
  },
  {
   "cell_type": "code",
   "execution_count": null,
   "id": "cardiovascular-defense",
   "metadata": {},
   "outputs": [],
   "source": [
    "z2 = np.ones(8760)\n",
    "z2.sum()\n"
   ]
  },
  {
   "cell_type": "code",
   "execution_count": null,
   "id": "suffering-ending",
   "metadata": {},
   "outputs": [],
   "source": [
    "# "
   ]
  },
  {
   "cell_type": "code",
   "execution_count": null,
   "id": "convertible-maple",
   "metadata": {},
   "outputs": [],
   "source": [
    "b= np.random.random(10)\n",
    "b"
   ]
  },
  {
   "cell_type": "code",
   "execution_count": null,
   "id": "cellular-olive",
   "metadata": {},
   "outputs": [],
   "source": [
    "a, b, a2"
   ]
  },
  {
   "cell_type": "code",
   "execution_count": null,
   "id": "accomplished-initial",
   "metadata": {},
   "outputs": [],
   "source": [
    "c = np.asarray([a,b, a2])\n"
   ]
  },
  {
   "cell_type": "markdown",
   "id": "realistic-southwest",
   "metadata": {},
   "source": [
    "Numpy kann auch andere Formate"
   ]
  },
  {
   "cell_type": "code",
   "execution_count": null,
   "id": "virgin-talent",
   "metadata": {},
   "outputs": [],
   "source": [
    "dates = np.arange('2021-01-01', '2022-01-01', dtype='datetime64[h]')\n",
    "dates[1]+24"
   ]
  },
  {
   "cell_type": "markdown",
   "id": "foreign-hungarian",
   "metadata": {},
   "source": [
    "### Write to file\n",
    "How to write in column form?"
   ]
  },
  {
   "cell_type": "code",
   "execution_count": null,
   "id": "extended-unemployment",
   "metadata": {},
   "outputs": [],
   "source": [
    "np.savetxt(\"Exercises/data.csv\", c)"
   ]
  },
  {
   "cell_type": "code",
   "execution_count": null,
   "id": "traditional-jordan",
   "metadata": {},
   "outputs": [],
   "source": [
    "np.savetxt(\"Exercises/data2.csv\", c.transpose())"
   ]
  },
  {
   "cell_type": "code",
   "execution_count": null,
   "id": "duplicate-measurement",
   "metadata": {},
   "outputs": [],
   "source": [
    "a.tofile(\"Exercises/data3.csv\", sep=\"\\n\",format=\"%s\")"
   ]
  },
  {
   "cell_type": "markdown",
   "id": "ranking-cleaning",
   "metadata": {},
   "source": [
    "### Read from file\n",
    "\n",
    "https://numpy.org/doc/stable/user/how-to-io.html"
   ]
  },
  {
   "cell_type": "code",
   "execution_count": null,
   "id": "black-architecture",
   "metadata": {},
   "outputs": [],
   "source": [
    "!more \"Exercises\\data\\PV.csv\" \n",
    "#on linux/mac: !cat"
   ]
  },
  {
   "cell_type": "code",
   "execution_count": null,
   "id": "tough-africa",
   "metadata": {},
   "outputs": [],
   "source": [
    "PV = np.genfromtxt(\"Exercises/data/PV.csv\", delimiter=\",\")\n",
    "PV"
   ]
  },
  {
   "cell_type": "code",
   "execution_count": null,
   "id": "martial-hardware",
   "metadata": {},
   "outputs": [],
   "source": [
    "PV = PV[1:]\n",
    "PV.ndim"
   ]
  },
  {
   "cell_type": "code",
   "execution_count": null,
   "id": "wicked-switch",
   "metadata": {},
   "outputs": [],
   "source": []
  },
  {
   "cell_type": "markdown",
   "id": "soviet-speed",
   "metadata": {},
   "source": [
    "Analyse eines PV-Profils"
   ]
  },
  {
   "cell_type": "code",
   "execution_count": null,
   "id": "postal-occurrence",
   "metadata": {},
   "outputs": [],
   "source": [
    "Dach_320kWp = PV[:,0] # alle zeilen, erste Spalte"
   ]
  },
  {
   "cell_type": "code",
   "execution_count": null,
   "id": "according-terrorist",
   "metadata": {},
   "outputs": [],
   "source": [
    "Dach_320kWp.size"
   ]
  },
  {
   "cell_type": "code",
   "execution_count": null,
   "id": "greatest-truth",
   "metadata": {},
   "outputs": [],
   "source": [
    "print(\"Dach 320kWP: \",round(Dach_320kWp.sum(),2) ,\" kWh\")"
   ]
  },
  {
   "cell_type": "markdown",
   "id": "divine-accountability",
   "metadata": {},
   "source": [
    "Wie hoch ist der spezifische Ertrag der Zeitreihen?"
   ]
  },
  {
   "cell_type": "code",
   "execution_count": null,
   "id": "invalid-convenience",
   "metadata": {},
   "outputs": [],
   "source": [
    "Ertrag_kWh = round(Dach_320kWp.sum(),2)\n",
    "Spez = Ertrag_kWh / 320 # kWh/kWp\n",
    "print(Spez, \"kWh/kWp\")"
   ]
  },
  {
   "cell_type": "markdown",
   "id": "round-double",
   "metadata": {},
   "source": [
    "Plot"
   ]
  },
  {
   "cell_type": "code",
   "execution_count": null,
   "id": "laughing-jacket",
   "metadata": {},
   "outputs": [],
   "source": [
    "import matplotlib.pyplot as plt\n",
    "plt.plot(Dach_320kWp)\n",
    "plt.ylabel(\"Ertrag [kW]\")\n",
    "plt.xlabel(\"Stunden\")"
   ]
  },
  {
   "cell_type": "markdown",
   "id": "confident-clerk",
   "metadata": {},
   "source": [
    "Ermittlung des täglichen Ertrags"
   ]
  },
  {
   "cell_type": "code",
   "execution_count": null,
   "id": "beneficial-lithuania",
   "metadata": {},
   "outputs": [],
   "source": [
    "pv = Dach_320kWp\n",
    "pv_daily = []\n",
    "for day in range(365):\n",
    "    pv_day = pv[day*24:(day+1)*24].sum()\n",
    "    pv_daily.append(pv_day)\n",
    "    \n",
    "pv_daily"
   ]
  },
  {
   "cell_type": "code",
   "execution_count": null,
   "id": "coastal-trustee",
   "metadata": {},
   "outputs": [],
   "source": [
    "plt.plot(pv_daily)"
   ]
  },
  {
   "cell_type": "markdown",
   "id": "acknowledged-lease",
   "metadata": {},
   "source": [
    "Plot together with original data"
   ]
  },
  {
   "cell_type": "markdown",
   "id": "arbitrary-flashing",
   "metadata": {},
   "source": [
    "### Normalization\n",
    "\n",
    "A typical task is to work just with the shape of a Profile or timeseries"
   ]
  },
  {
   "cell_type": "code",
   "execution_count": null,
   "id": "narrow-basement",
   "metadata": {},
   "outputs": [],
   "source": [
    "pv.sum() #kWh einer 320 kWp Anlage\n"
   ]
  },
  {
   "cell_type": "code",
   "execution_count": null,
   "id": "future-calculation",
   "metadata": {},
   "outputs": [],
   "source": [
    "# Scale it down to the yield of 1 kWp\n",
    "pv_1kWp = pv / 320\n",
    "pv_1kWp.sum() #1038 kWh / kWp"
   ]
  },
  {
   "cell_type": "code",
   "execution_count": null,
   "id": "assumed-granny",
   "metadata": {},
   "outputs": [],
   "source": [
    "#let's save that for later\n",
    "pv_1kWp.tofile(\"Exercises/data/pv_1kWp.csv\", sep=\"\\n\")"
   ]
  },
  {
   "cell_type": "code",
   "execution_count": null,
   "id": "significant-dealing",
   "metadata": {},
   "outputs": [],
   "source": [
    "# let's double check: does it still work?\n",
    "pv_check = np.genfromtxt(\"Exercises/data/pv_1kWp.csv\", delimiter=\"\\n\")\n",
    "(pv_check != pv_1kWp)"
   ]
  },
  {
   "cell_type": "code",
   "execution_count": null,
   "id": "automated-prague",
   "metadata": {},
   "outputs": [],
   "source": [
    "pv_check.size"
   ]
  },
  {
   "cell_type": "markdown",
   "id": "mounted-furniture",
   "metadata": {},
   "source": [
    "Now we can write a function that takes the path of the \n",
    "profile and return it as numpy array, but with a scaling factor\n"
   ]
  },
  {
   "cell_type": "code",
   "execution_count": null,
   "id": "close-tower",
   "metadata": {},
   "outputs": [],
   "source": [
    "def gen_pv(path, kWp=1):\n",
    "    profile = np.genfromtxt(path, delimiter=\"\\n\")\n",
    "    return profile * kWp\n",
    "\n",
    "test = gen_pv(\"Exercises/data/pv_1kWp.csv\", 500)\n",
    "plt.plot(test)\n",
    "plt.plot(pv)"
   ]
  },
  {
   "cell_type": "code",
   "execution_count": null,
   "id": "conventional-franchise",
   "metadata": {},
   "outputs": [],
   "source": [
    "# Ok, but in terms of visualization, we can do better.\n",
    "# let's write a function, that takes a profile and plots the daily averag\n",
    "\n",
    "def plot_daily(profile):\n",
    "    pv_daily = []\n",
    "    for day in range(365):\n",
    "        pv_day = profile[day*24:(day+1)*24].sum()\n",
    "        pv_daily.append(pv_day)\n",
    "    plt.plot(pv_daily, linewidth=1)\n",
    "    \n",
    "plot_daily(pv)\n",
    "plot_daily(test)\n",
    "plot_daily(gen_pv(\"Exercises/data/pv_1kWp.csv\", 1000))\n"
   ]
  },
  {
   "cell_type": "code",
   "execution_count": null,
   "id": "cutting-coaching",
   "metadata": {},
   "outputs": [],
   "source": []
  },
  {
   "cell_type": "markdown",
   "id": "metric-scotland",
   "metadata": {},
   "source": [
    "## Introduction to pandas\n",
    "Pandas introduces two data containers: **Series** and **DataFrame**. A Dataframe consists of a number of Seires and is in many ways like an Excel \"Tables\" and/or \"Pivot tables\". The Series in a Dataframe (df) are it's columns.\n",
    "\n",
    "For a good overview: \n",
    "https://github.com/Tanu-N-Prabhu/Python/blob/master/Pandas/Pandas_DataFrame.ipynb\n"
   ]
  },
  {
   "cell_type": "code",
   "execution_count": null,
   "id": "proud-staff",
   "metadata": {},
   "outputs": [],
   "source": [
    "# import the pandas library\n",
    "import pandas as pd\n",
    "\n",
    "df = pd.DataFrame([\"A\",\"B\",\"C\"], columns=[\"test\"])\n",
    "df"
   ]
  },
  {
   "cell_type": "code",
   "execution_count": null,
   "id": "difficult-innocent",
   "metadata": {},
   "outputs": [],
   "source": [
    "# creating a dataframe from a dictionary:\n",
    "\n",
    "Hulls =  {\n",
    "        \"name\": [\"test hull\", \"OIB\", \"PH\"],\n",
    "        \"cost\": [0., 1000., 1100.], # €/m²BGF Mehrkosten\n",
    "        \"l_T\": [500., 600., 400.], # W/K\n",
    "    }\n",
    "\n",
    "Hulls"
   ]
  },
  {
   "cell_type": "code",
   "execution_count": null,
   "id": "instrumental-desire",
   "metadata": {},
   "outputs": [],
   "source": [
    "df = pd.DataFrame(Hulls) # pandas Dataframes are typically assigned to \"df\"\n",
    "df"
   ]
  },
  {
   "cell_type": "code",
   "execution_count": null,
   "id": "ongoing-swift",
   "metadata": {},
   "outputs": [],
   "source": [
    "# Selecting a column:\n",
    "df[[\"name\"]]"
   ]
  },
  {
   "cell_type": "code",
   "execution_count": null,
   "id": "fatty-rebel",
   "metadata": {},
   "outputs": [],
   "source": [
    "# can also be done with object notation \n",
    "# if the column name is a valid python symbol\n",
    "df.name"
   ]
  },
  {
   "cell_type": "code",
   "execution_count": null,
   "id": "laden-think",
   "metadata": {},
   "outputs": [],
   "source": [
    "# selecting a column is a bit weird:\n",
    "df.loc[0] # accessed by the index "
   ]
  },
  {
   "cell_type": "markdown",
   "id": "imperial-statement",
   "metadata": {},
   "source": [
    "data selection, addition, deletion"
   ]
  },
  {
   "cell_type": "code",
   "execution_count": null,
   "id": "usual-isaac",
   "metadata": {},
   "outputs": [],
   "source": [
    "# columns can be deleted\n",
    "del df[\"name\"]"
   ]
  },
  {
   "cell_type": "code",
   "execution_count": null,
   "id": "composed-planet",
   "metadata": {},
   "outputs": [],
   "source": [
    "df"
   ]
  },
  {
   "cell_type": "code",
   "execution_count": null,
   "id": "contrary-wilderness",
   "metadata": {},
   "outputs": [],
   "source": [
    "# but usually it is better to just\n",
    "# assign a new variable with just \n",
    "# what you want\n"
   ]
  },
  {
   "cell_type": "code",
   "execution_count": null,
   "id": "modified-mitchell",
   "metadata": {},
   "outputs": [],
   "source": [
    "df = pd.DataFrame(Hulls) # pandas Dataframes are typically assigned to \"df\"\n",
    "df"
   ]
  },
  {
   "cell_type": "code",
   "execution_count": null,
   "id": "primary-combine",
   "metadata": {},
   "outputs": [],
   "source": [
    "df = df[[\"name\", \"l_T\"]]\n",
    "df"
   ]
  },
  {
   "cell_type": "code",
   "execution_count": null,
   "id": "waiting-latest",
   "metadata": {},
   "outputs": [],
   "source": [
    "# renaming dataframes require a mapping\n",
    "# from old to new names as a dictionary\n",
    "newnames = {\n",
    "    \"name\": \"Standard\",\n",
    "    \"l_T\": \"Transmissions-Leitwert\"\n",
    "}\n",
    "df.rename(columns=newnames)"
   ]
  },
  {
   "cell_type": "code",
   "execution_count": null,
   "id": "administrative-knight",
   "metadata": {},
   "outputs": [],
   "source": [
    "df #??"
   ]
  },
  {
   "cell_type": "code",
   "execution_count": null,
   "id": "confused-mozambique",
   "metadata": {},
   "outputs": [],
   "source": [
    "# careful, some operations return a new df\n",
    "# and leave the old inplace.\n",
    "# if you wanna change the df, use inplace=True\n",
    "df.rename(columns=newnames, inplace=True)\n",
    "df"
   ]
  },
  {
   "cell_type": "code",
   "execution_count": null,
   "id": "loaded-operator",
   "metadata": {},
   "outputs": [],
   "source": [
    "# or simply reassign to a new/old variable\n",
    "df = pd.DataFrame(Hulls)\n",
    "df = df.rename(columns=newnames)\n",
    "df"
   ]
  },
  {
   "cell_type": "markdown",
   "id": "amended-demographic",
   "metadata": {},
   "source": [
    "### Working with Numpy Arrays"
   ]
  },
  {
   "cell_type": "code",
   "execution_count": null,
   "id": "dated-zambia",
   "metadata": {},
   "outputs": [],
   "source": [
    "\n",
    "# Dataframes work perfectly with Numpy Array"
   ]
  },
  {
   "cell_type": "code",
   "execution_count": null,
   "id": "potential-kuwait",
   "metadata": {},
   "outputs": [],
   "source": [
    "arr = np.random.random(8760)\n",
    "df = pd.DataFrame(arr,columns=[\"random\"])\n",
    "df"
   ]
  },
  {
   "cell_type": "code",
   "execution_count": null,
   "id": "documentary-isolation",
   "metadata": {},
   "outputs": [],
   "source": [
    "# we can use the usual numpy aggregation functions\n",
    "# mittelwert\n",
    "df[\"random\"].mean()"
   ]
  },
  {
   "cell_type": "code",
   "execution_count": null,
   "id": "gorgeous-penalty",
   "metadata": {},
   "outputs": [],
   "source": [
    "df.max(), df.min()"
   ]
  },
  {
   "cell_type": "code",
   "execution_count": null,
   "id": "artificial-northeast",
   "metadata": {},
   "outputs": [],
   "source": [
    "df[\"Zeros\"] = np.zeros(8760)\n",
    "df"
   ]
  },
  {
   "cell_type": "code",
   "execution_count": null,
   "id": "nonprofit-veteran",
   "metadata": {},
   "outputs": [],
   "source": [
    "df[\"Ones\"] = np.ones(8760)\n",
    "df"
   ]
  },
  {
   "cell_type": "code",
   "execution_count": null,
   "id": "every-scratch",
   "metadata": {},
   "outputs": [],
   "source": [
    "df.random"
   ]
  },
  {
   "cell_type": "code",
   "execution_count": null,
   "id": "tough-survival",
   "metadata": {},
   "outputs": [],
   "source": [
    "# you can access just the first\n",
    "# 5 rows of the dataframe, if it is very big\n",
    "df.head()"
   ]
  },
  {
   "cell_type": "code",
   "execution_count": null,
   "id": "naval-haiti",
   "metadata": {},
   "outputs": [],
   "source": [
    "# sometimes its faster to look at the info\n",
    "df.info()"
   ]
  },
  {
   "cell_type": "code",
   "execution_count": null,
   "id": "wrong-spanking",
   "metadata": {},
   "outputs": [],
   "source": [
    "# often you wanna see, which columns are \n",
    "# in your df\n",
    "df.columns"
   ]
  },
  {
   "cell_type": "markdown",
   "id": "brutal-authentication",
   "metadata": {},
   "source": [
    "Access to the data by numeric row and column identifiers:"
   ]
  },
  {
   "cell_type": "code",
   "execution_count": null,
   "id": "prime-grove",
   "metadata": {},
   "outputs": [],
   "source": [
    "df.iloc[1,:] # [i, j] ith row, jth columun"
   ]
  },
  {
   "cell_type": "code",
   "execution_count": null,
   "id": "recent-ideal",
   "metadata": {},
   "outputs": [],
   "source": [
    "df.iloc[-1,-1]"
   ]
  },
  {
   "cell_type": "markdown",
   "id": "worldwide-journalist",
   "metadata": {},
   "source": [
    "Calculations\n",
    "on whole Columns work like with numpy arrays"
   ]
  },
  {
   "cell_type": "code",
   "execution_count": null,
   "id": "patent-stage",
   "metadata": {},
   "outputs": [],
   "source": [
    "df[\"random*10\"] = df.random * 10\n",
    "df"
   ]
  },
  {
   "cell_type": "code",
   "execution_count": null,
   "id": "violent-committee",
   "metadata": {},
   "outputs": [],
   "source": [
    "# you can also always use python sequences\n",
    "# in your columns\n",
    "df[\"Hours\"] = range(1,8761)\n",
    "df"
   ]
  },
  {
   "cell_type": "markdown",
   "id": "transparent-editor",
   "metadata": {},
   "source": [
    "#### Datetimes"
   ]
  },
  {
   "cell_type": "code",
   "execution_count": null,
   "id": "peaceful-description",
   "metadata": {},
   "outputs": [],
   "source": [
    "# Often it is very useful to have an index\n",
    "# that is a DATE, not a number\n",
    "# that helps a lot with automatic \n",
    "# aggregation\n",
    "dates = np.arange('2021-01-01', '2022-01-01', dtype='datetime64[h]')\n",
    "dates"
   ]
  },
  {
   "cell_type": "code",
   "execution_count": null,
   "id": "polish-hughes",
   "metadata": {},
   "outputs": [],
   "source": [
    "# note that these dates are smart\n",
    "# you can do arithmetic with it\n",
    "dates[0] + 12 # note the hour"
   ]
  },
  {
   "cell_type": "code",
   "execution_count": null,
   "id": "british-adobe",
   "metadata": {},
   "outputs": [],
   "source": [
    "# you can set the index of a dataframe\n",
    "# to an appropriate datetime array or series\n",
    "df.index = dates\n",
    "df"
   ]
  },
  {
   "cell_type": "code",
   "execution_count": null,
   "id": "adult-acting",
   "metadata": {},
   "outputs": [],
   "source": [
    "df.loc[1] #does not work anymore, \n",
    "# because your index is now a\n",
    "# different format"
   ]
  },
  {
   "cell_type": "code",
   "execution_count": null,
   "id": "shaped-hampshire",
   "metadata": {},
   "outputs": [],
   "source": [
    "df.loc[\"2021-12-31 23:00:00\"]"
   ]
  },
  {
   "cell_type": "code",
   "execution_count": null,
   "id": "familiar-programmer",
   "metadata": {},
   "outputs": [],
   "source": [
    "# our index is now \"smarter\"\n",
    "# it is aware of days, months and years\n",
    "df.index"
   ]
  },
  {
   "cell_type": "code",
   "execution_count": null,
   "id": "incorporate-utility",
   "metadata": {},
   "outputs": [],
   "source": [
    "df.index.day"
   ]
  },
  {
   "cell_type": "code",
   "execution_count": null,
   "id": "coastal-royalty",
   "metadata": {},
   "outputs": [],
   "source": [
    "# we can use it to filter our data\n",
    "for month in df.index.month.unique():\n",
    "    print(len(df[df.index.month == month]))\n",
    "    \n"
   ]
  },
  {
   "cell_type": "markdown",
   "id": "coordinated-rabbit",
   "metadata": {},
   "source": [
    "#### Resample\n",
    "Der Grund, sich mit den datetimes rumzuärgern"
   ]
  },
  {
   "cell_type": "code",
   "execution_count": null,
   "id": "public-mailman",
   "metadata": {},
   "outputs": [],
   "source": [
    "# with datetimes \n",
    "# you can choose a resample interval\n",
    "rand_monthly = df[\"random\"].resample(\"M\")\n",
    "rand_monthly"
   ]
  },
  {
   "cell_type": "code",
   "execution_count": null,
   "id": "assigned-bones",
   "metadata": {},
   "outputs": [],
   "source": [
    "# Thats like a PIVOT table, \n",
    "# we need to combine it with a aggregation\n",
    "monthly_mean = rand_monthly.mean()\n",
    "monthly_mean"
   ]
  },
  {
   "cell_type": "code",
   "execution_count": null,
   "id": "prostate-quantity",
   "metadata": {},
   "outputs": [],
   "source": [
    "ones_monthly = df[\"Ones\"].resample(\"M\").sum()\n",
    "ones_monthly/24"
   ]
  },
  {
   "cell_type": "code",
   "execution_count": null,
   "id": "monetary-natural",
   "metadata": {},
   "outputs": [],
   "source": [
    "# Oh, and it is really easy to \n",
    "# plot dataframes and their resamples\n",
    "ones_monthly.plot()"
   ]
  },
  {
   "cell_type": "code",
   "execution_count": null,
   "id": "velvet-borough",
   "metadata": {},
   "outputs": [],
   "source": [
    "ones_monthly.plot(kind=\"bar\")\n"
   ]
  },
  {
   "cell_type": "code",
   "execution_count": null,
   "id": "fundamental-ready",
   "metadata": {},
   "outputs": [],
   "source": [
    "fig, ax = plt.subplots(2)\n",
    "ones_monthly.plot(kind=\"bar\", ax=ax[0])\n",
    "ax[0].set_title(\"Days in a month\")\n",
    "monthly_mean.plot(ax=ax[1])\n",
    "ax[1].set_title(\"Average random\")\n",
    "\n",
    "df[\"random\"].resample(\"D\").mean().plot(ax=ax[1])"
   ]
  },
  {
   "cell_type": "markdown",
   "id": "theoretical-berlin",
   "metadata": {},
   "source": [
    "### Read CSV with Pandas"
   ]
  },
  {
   "cell_type": "code",
   "execution_count": null,
   "id": "laden-solomon",
   "metadata": {},
   "outputs": [],
   "source": [
    "\n",
    "pd.read_csv?\n"
   ]
  },
  {
   "cell_type": "code",
   "execution_count": null,
   "id": "organizational-tackle",
   "metadata": {},
   "outputs": [],
   "source": [
    "em = pd.read_csv(\"Exercises/data/em_common_15-19.csv\") # electricity map\n",
    "em"
   ]
  },
  {
   "cell_type": "code",
   "execution_count": null,
   "id": "loaded-iceland",
   "metadata": {},
   "outputs": [],
   "source": [
    "em = pd.read_csv(\"Exercises/data/em_common_15-19.csv\", delimiter=\";\", index_col=\"datetime\", parse_dates=True) # electricity map\n",
    "em.head()"
   ]
  },
  {
   "cell_type": "code",
   "execution_count": null,
   "id": "original-parks",
   "metadata": {},
   "outputs": [],
   "source": [
    "em.total_production_avg - em.total_consumption_avg"
   ]
  },
  {
   "cell_type": "code",
   "execution_count": null,
   "id": "facial-spell",
   "metadata": {},
   "outputs": [],
   "source": [
    "em = pd.read_csv(\"Exercises/data/em_common_15-19.csv\", \n",
    "                 delimiter=\";\", index_col=\"datetime\", \n",
    "                 parse_dates=True, decimal=\",\") # electricity map\n",
    "em.head()"
   ]
  },
  {
   "cell_type": "code",
   "execution_count": null,
   "id": "crucial-bonus",
   "metadata": {},
   "outputs": [],
   "source": [
    "em[\"balance\"] = em.total_production_avg - em.total_consumption_avg"
   ]
  },
  {
   "cell_type": "code",
   "execution_count": null,
   "id": "valuable-preservation",
   "metadata": {},
   "outputs": [],
   "source": [
    "em.plot()\n",
    "#plt.legend(\"\")"
   ]
  },
  {
   "cell_type": "code",
   "execution_count": null,
   "id": "unknown-voice",
   "metadata": {},
   "outputs": [],
   "source": [
    "\n",
    "PV = em[\"power_consumption_solar_avg\"].dropna()\n",
    "PV.sum()"
   ]
  },
  {
   "cell_type": "code",
   "execution_count": null,
   "id": "balanced-jefferson",
   "metadata": {},
   "outputs": [],
   "source": [
    "PV"
   ]
  },
  {
   "cell_type": "code",
   "execution_count": null,
   "id": "private-beaver",
   "metadata": {},
   "outputs": [],
   "source": [
    "# now we can easily plot the daily and monthly average\n",
    "PV.resample(\"D\").sum().plot()\n",
    "#PV.resample(\"W\").sum().plot()\n",
    "#PV.resample(\"M\").sum().plot()"
   ]
  },
  {
   "cell_type": "code",
   "execution_count": null,
   "id": "enormous-convertible",
   "metadata": {},
   "outputs": [],
   "source": [
    "# Try plotting the average CO2 Emissions\n",
    "# per year (\"carbon_intensity_avg\")\n",
    "\n",
    "co2 = em[\"carbon_intensity_avg\"]\n",
    "co2"
   ]
  },
  {
   "cell_type": "code",
   "execution_count": null,
   "id": "drawn-dividend",
   "metadata": {},
   "outputs": [],
   "source": [
    "co2.resample(\"Y\").mean().plot(kind=\"bar\")"
   ]
  },
  {
   "cell_type": "markdown",
   "id": "adjusted-layer",
   "metadata": {},
   "source": [
    "### Working with Excel\n",
    "\n",
    "Read excel to Pandas?\n"
   ]
  },
  {
   "cell_type": "code",
   "execution_count": null,
   "id": "exciting-blowing",
   "metadata": {},
   "outputs": [],
   "source": [
    "df = pd.read_excel(\"Exercises/data/E-control.xlsx\",\n",
    "              #sheet_name=\"FLUCCOplus\",\n",
    "              skiprows=[0,1,2,3,4,5,6,8],\n",
    "              #index_col=0\n",
    "                  )\n",
    "\n",
    "#df= df.iloc[:36]\n",
    "#df"
   ]
  }
 ],
 "metadata": {
  "kernelspec": {
   "display_name": "Simulation",
   "language": "python",
   "name": "simulation"
  },
  "language_info": {
   "codemirror_mode": {
    "name": "ipython",
    "version": 3
   },
   "file_extension": ".py",
   "mimetype": "text/x-python",
   "name": "python",
   "nbconvert_exporter": "python",
   "pygments_lexer": "ipython3",
   "version": "3.8.5"
  },
  "toc": {
   "base_numbering": 1,
   "nav_menu": {},
   "number_sections": true,
   "sideBar": true,
   "skip_h1_title": false,
   "title_cell": "Table of Contents",
   "title_sidebar": "Contents",
   "toc_cell": false,
   "toc_position": {
    "height": "calc(100% - 180px)",
    "left": "10px",
    "top": "150px",
    "width": "196.583px"
   },
   "toc_section_display": true,
   "toc_window_display": true
  }
 },
 "nbformat": 4,
 "nbformat_minor": 5
}
