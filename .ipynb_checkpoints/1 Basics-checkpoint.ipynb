{
 "cells": [
  {
   "cell_type": "markdown",
   "id": "played-imaging",
   "metadata": {},
   "source": [
    "# Python Basics\n",
    "\n",
    "If you want to get the basics right, i strongly suggest Dan Beazly's Introduction to Python: https://dabeaz-course.github.io/practical-python/Notes/Contents.html  \n",
    "Completing the course will take you roughly 20-40 hours. You will get a very firm grasp on all essentials and a ton of hints by building your own stock portfolio analysis programm. It assumes you are familiar with the\n",
    "\n",
    "\n",
    "Quick overview of the core functionality:\n",
    "https://github.com/jrjohansson/scientific-python-lectures/blob/master/Lecture-1-Introduction-to-Python-Programming.ipynb"
   ]
  },
  {
   "cell_type": "code",
   "execution_count": null,
   "id": "narrow-marsh",
   "metadata": {},
   "outputs": [],
   "source": []
  },
  {
   "cell_type": "markdown",
   "id": "nervous-assault",
   "metadata": {},
   "source": [
    "## Review der Exercises und Selbsttest Aufgaben"
   ]
  },
  {
   "cell_type": "markdown",
   "id": "agreed-topic",
   "metadata": {},
   "source": []
  },
  {
   "cell_type": "markdown",
   "id": "stylish-diana",
   "metadata": {},
   "source": [
    "\n",
    "https://pynative.com/python-basic-exercise-for-beginners/\n",
    "### Exercise 1\n",
    "Given two integer numbers return their product. If the product is greater than 1000, then return their sum\n",
    "\n",
    "Given 1:\n",
    "\n",
    "number1 = 20\n",
    "number2 = 30\n",
    "\n",
    "Expected Output:\n",
    "\n",
    "The result is 600\n",
    "\n",
    "Given 2:\n",
    "\n",
    "number1 = 40\n",
    "number2 = 30\n",
    "\n",
    "Expected Output:\n",
    "\n",
    "The result is 70"
   ]
  },
  {
   "cell_type": "code",
   "execution_count": 9,
   "id": "occasional-courage",
   "metadata": {},
   "outputs": [],
   "source": [
    "def cond_sum(a,b):\n",
    "    if a*b > 1000:\n",
    "        return a+b\n",
    "    return a*b\n",
    "   "
   ]
  },
  {
   "cell_type": "code",
   "execution_count": 10,
   "id": "derived-boring",
   "metadata": {},
   "outputs": [
    {
     "data": {
      "text/plain": [
       "600"
      ]
     },
     "execution_count": 10,
     "metadata": {},
     "output_type": "execute_result"
    }
   ],
   "source": [
    "cond_sum(20, 30)"
   ]
  },
  {
   "cell_type": "code",
   "execution_count": 12,
   "id": "reduced-western",
   "metadata": {},
   "outputs": [
    {
     "data": {
      "text/plain": [
       "70"
      ]
     },
     "execution_count": 12,
     "metadata": {},
     "output_type": "execute_result"
    }
   ],
   "source": [
    "cond_sum(40,30)"
   ]
  },
  {
   "cell_type": "markdown",
   "id": "adult-yesterday",
   "metadata": {},
   "source": [
    "### Exercise 2\n",
    "Given a range of the first 10 numbers, Iterate from the start number to the end number, and In each iteration print the sum of the current number and previous number"
   ]
  },
  {
   "cell_type": "code",
   "execution_count": 1,
   "id": "modified-album",
   "metadata": {},
   "outputs": [],
   "source": [
    "def f2(maximum):\n",
    "    n1 = 0\n",
    "    for n in range(maximum):\n",
    "        print(n1, n, n1+n)\n",
    "        n1 = n\n",
    "        \n"
   ]
  },
  {
   "cell_type": "code",
   "execution_count": 2,
   "id": "adverse-character",
   "metadata": {},
   "outputs": [
    {
     "name": "stdout",
     "output_type": "stream",
     "text": [
      "0 0 0\n",
      "0 1 1\n",
      "1 2 3\n",
      "2 3 5\n",
      "3 4 7\n",
      "4 5 9\n",
      "5 6 11\n",
      "6 7 13\n",
      "7 8 15\n",
      "8 9 17\n"
     ]
    }
   ],
   "source": [
    "f2(10)"
   ]
  },
  {
   "cell_type": "markdown",
   "id": "inclusive-contact",
   "metadata": {},
   "source": [
    "### Exercise 3: \n",
    "Given a string, display only those characters which are present at an even index number.\n",
    "\n",
    "For example, str = \"pynative\" so you should display ‘p’, ‘n’, ‘t’, ‘v’."
   ]
  },
  {
   "cell_type": "code",
   "execution_count": 45,
   "id": "terminal-platinum",
   "metadata": {},
   "outputs": [],
   "source": [
    "def f3(string, start=0):\n",
    "    return list(string[start::2])"
   ]
  },
  {
   "cell_type": "code",
   "execution_count": 46,
   "id": "atlantic-filling",
   "metadata": {},
   "outputs": [
    {
     "data": {
      "text/plain": [
       "['p', 'n', 't', 'v']"
      ]
     },
     "execution_count": 46,
     "metadata": {},
     "output_type": "execute_result"
    }
   ],
   "source": [
    "f3(\"pynative\", 0)"
   ]
  },
  {
   "cell_type": "markdown",
   "id": "pharmaceutical-wrist",
   "metadata": {},
   "source": [
    "### Exercise 4: \n",
    "Given a string and an integer number n, remove characters from a string starting from zero up to n and return a new string"
   ]
  },
  {
   "cell_type": "code",
   "execution_count": 47,
   "id": "experienced-assets",
   "metadata": {},
   "outputs": [],
   "source": [
    "def f4(string, i):\n",
    "    return string[i:]"
   ]
  },
  {
   "cell_type": "code",
   "execution_count": 49,
   "id": "chief-sucking",
   "metadata": {},
   "outputs": [
    {
     "data": {
      "text/plain": [
       "'tive'"
      ]
     },
     "execution_count": 49,
     "metadata": {},
     "output_type": "execute_result"
    }
   ],
   "source": [
    "f4(\"pynative\",4)"
   ]
  },
  {
   "cell_type": "markdown",
   "id": "simple-colony",
   "metadata": {},
   "source": [
    "### Exercise 5: \n",
    "Given a list of numbers, return True if first and last number of a list is same"
   ]
  },
  {
   "cell_type": "code",
   "execution_count": 50,
   "id": "later-hampshire",
   "metadata": {},
   "outputs": [],
   "source": [
    "def f5(l):\n",
    "    return l[0] == l[-1]"
   ]
  },
  {
   "cell_type": "code",
   "execution_count": 52,
   "id": "macro-testimony",
   "metadata": {},
   "outputs": [
    {
     "data": {
      "text/plain": [
       "True"
      ]
     },
     "execution_count": 52,
     "metadata": {},
     "output_type": "execute_result"
    }
   ],
   "source": [
    "f5([10,20,2020,10])"
   ]
  },
  {
   "cell_type": "code",
   "execution_count": 53,
   "id": "synthetic-drive",
   "metadata": {},
   "outputs": [
    {
     "data": {
      "text/plain": [
       "False"
      ]
     },
     "execution_count": 53,
     "metadata": {},
     "output_type": "execute_result"
    }
   ],
   "source": [
    "f5([1,2,3,4])"
   ]
  },
  {
   "cell_type": "markdown",
   "id": "needed-measure",
   "metadata": {},
   "source": [
    "### Exercise 6: \n",
    "Given a list of numbers, Iterate it and print only those numbers which are divisible of 5"
   ]
  },
  {
   "cell_type": "code",
   "execution_count": 56,
   "id": "prime-novel",
   "metadata": {},
   "outputs": [],
   "source": [
    "def f6(l):\n",
    "    for item in l:\n",
    "        if item % 5 == 0:\n",
    "            print(item)\n",
    "            "
   ]
  },
  {
   "cell_type": "markdown",
   "id": "instructional-netherlands",
   "metadata": {},
   "source": [
    "Make it work for any divisor!\n"
   ]
  },
  {
   "cell_type": "code",
   "execution_count": 65,
   "id": "asian-colombia",
   "metadata": {},
   "outputs": [],
   "source": [
    "def f6b(l, divisor):\n",
    "    for item in l:\n",
    "        if item % divisor == 0:\n",
    "            print(item)"
   ]
  },
  {
   "cell_type": "code",
   "execution_count": 66,
   "id": "julian-librarian",
   "metadata": {},
   "outputs": [
    {
     "name": "stdout",
     "output_type": "stream",
     "text": [
      "3\n"
     ]
    }
   ],
   "source": [
    "f6b([1,2,3,4,5],3)"
   ]
  },
  {
   "cell_type": "markdown",
   "id": "mineral-venture",
   "metadata": {},
   "source": [
    "What happens if you pass a list, that does not contain divisble elements?\n"
   ]
  },
  {
   "cell_type": "code",
   "execution_count": 67,
   "id": "opening-dimension",
   "metadata": {},
   "outputs": [
    {
     "ename": "TypeError",
     "evalue": "not all arguments converted during string formatting",
     "output_type": "error",
     "traceback": [
      "\u001b[1;31m---------------------------------------------------------------------------\u001b[0m",
      "\u001b[1;31mTypeError\u001b[0m                                 Traceback (most recent call last)",
      "\u001b[1;32m<ipython-input-67-78694e9f1317>\u001b[0m in \u001b[0;36m<module>\u001b[1;34m\u001b[0m\n\u001b[1;32m----> 1\u001b[1;33m \u001b[0mf6b\u001b[0m\u001b[1;33m(\u001b[0m\u001b[1;33m[\u001b[0m\u001b[1;34m\"one\"\u001b[0m\u001b[1;33m,\u001b[0m \u001b[1;34m\"zwoa\"\u001b[0m\u001b[1;33m,\u001b[0m \u001b[1;36m3\u001b[0m\u001b[1;33m,\u001b[0m\u001b[1;36m4\u001b[0m\u001b[1;33m,\u001b[0m\u001b[1;36m5\u001b[0m\u001b[1;33m,\u001b[0m\u001b[1;36m6\u001b[0m\u001b[1;33m]\u001b[0m\u001b[1;33m,\u001b[0m\u001b[1;36m2\u001b[0m\u001b[1;33m)\u001b[0m\u001b[1;33m\u001b[0m\u001b[1;33m\u001b[0m\u001b[0m\n\u001b[0m",
      "\u001b[1;32m<ipython-input-65-a84b0e96274a>\u001b[0m in \u001b[0;36mf6b\u001b[1;34m(l, divisor)\u001b[0m\n\u001b[0;32m      1\u001b[0m \u001b[1;32mdef\u001b[0m \u001b[0mf6b\u001b[0m\u001b[1;33m(\u001b[0m\u001b[0ml\u001b[0m\u001b[1;33m,\u001b[0m \u001b[0mdivisor\u001b[0m\u001b[1;33m)\u001b[0m\u001b[1;33m:\u001b[0m\u001b[1;33m\u001b[0m\u001b[1;33m\u001b[0m\u001b[0m\n\u001b[0;32m      2\u001b[0m     \u001b[1;32mfor\u001b[0m \u001b[0mitem\u001b[0m \u001b[1;32min\u001b[0m \u001b[0ml\u001b[0m\u001b[1;33m:\u001b[0m\u001b[1;33m\u001b[0m\u001b[1;33m\u001b[0m\u001b[0m\n\u001b[1;32m----> 3\u001b[1;33m         \u001b[1;32mif\u001b[0m \u001b[0mitem\u001b[0m \u001b[1;33m%\u001b[0m \u001b[0mdivisor\u001b[0m \u001b[1;33m==\u001b[0m \u001b[1;36m0\u001b[0m\u001b[1;33m:\u001b[0m\u001b[1;33m\u001b[0m\u001b[1;33m\u001b[0m\u001b[0m\n\u001b[0m\u001b[0;32m      4\u001b[0m             \u001b[0mprint\u001b[0m\u001b[1;33m(\u001b[0m\u001b[0mitem\u001b[0m\u001b[1;33m)\u001b[0m\u001b[1;33m\u001b[0m\u001b[1;33m\u001b[0m\u001b[0m\n",
      "\u001b[1;31mTypeError\u001b[0m: not all arguments converted during string formatting"
     ]
    }
   ],
   "source": [
    "f6b([\"one\", \"zwoa\", 3,4,5,6],2)"
   ]
  },
  {
   "cell_type": "code",
   "execution_count": 69,
   "id": "disabled-renaissance",
   "metadata": {},
   "outputs": [
    {
     "ename": "TypeError",
     "evalue": "not all arguments converted during string formatting",
     "output_type": "error",
     "traceback": [
      "\u001b[1;31m---------------------------------------------------------------------------\u001b[0m",
      "\u001b[1;31mTypeError\u001b[0m                                 Traceback (most recent call last)",
      "\u001b[1;32m<ipython-input-69-3cd67bb70a6b>\u001b[0m in \u001b[0;36m<module>\u001b[1;34m\u001b[0m\n\u001b[1;32m----> 1\u001b[1;33m \u001b[1;34m\"one\"\u001b[0m \u001b[1;33m%\u001b[0m \u001b[1;36m1\u001b[0m\u001b[1;33m\u001b[0m\u001b[1;33m\u001b[0m\u001b[0m\n\u001b[0m",
      "\u001b[1;31mTypeError\u001b[0m: not all arguments converted during string formatting"
     ]
    }
   ],
   "source": [
    "Catch Errors!\n",
    "Which error? Look above\n"
   ]
  },
  {
   "cell_type": "code",
   "execution_count": 78,
   "id": "different-animal",
   "metadata": {},
   "outputs": [],
   "source": [
    "def f6c(l, divisor):\n",
    "    for item in l:\n",
    "        try:\n",
    "            if item % divisor == 0:\n",
    "                print(item)\n",
    "        except Exception:\n",
    "             print(\"wrong type\")"
   ]
  },
  {
   "cell_type": "code",
   "execution_count": 79,
   "id": "lasting-scanner",
   "metadata": {},
   "outputs": [
    {
     "name": "stdout",
     "output_type": "stream",
     "text": [
      "wrong type\n",
      "wrong type\n",
      "4\n",
      "6\n"
     ]
    }
   ],
   "source": [
    "f6c([\"one\", \"zwoa\", 3,4,5,6],2)"
   ]
  },
  {
   "cell_type": "markdown",
   "id": "normal-limitation",
   "metadata": {},
   "source": [
    "That seems good but is very dangerous. Errors should never go silent. They should be loud and crash."
   ]
  },
  {
   "cell_type": "code",
   "execution_count": 89,
   "id": "resident-amplifier",
   "metadata": {},
   "outputs": [],
   "source": [
    "def f6d(l, divisor):\n",
    "    for item in l:\n",
    "        try:\n",
    "            if item % divisor == 0:\n",
    "                print(item)\n",
    "        except TypeError as e:\n",
    "            print(\"wrong type for % dvision\")\n",
    "            raise e"
   ]
  },
  {
   "cell_type": "code",
   "execution_count": 90,
   "id": "moderate-location",
   "metadata": {},
   "outputs": [
    {
     "name": "stdout",
     "output_type": "stream",
     "text": [
      "wrong type for % dvision\n"
     ]
    },
    {
     "ename": "TypeError",
     "evalue": "not all arguments converted during string formatting",
     "output_type": "error",
     "traceback": [
      "\u001b[1;31m---------------------------------------------------------------------------\u001b[0m",
      "\u001b[1;31mTypeError\u001b[0m                                 Traceback (most recent call last)",
      "\u001b[1;32m<ipython-input-90-f8280c8e76dd>\u001b[0m in \u001b[0;36m<module>\u001b[1;34m\u001b[0m\n\u001b[1;32m----> 1\u001b[1;33m \u001b[0mf6d\u001b[0m\u001b[1;33m(\u001b[0m\u001b[1;33m[\u001b[0m\u001b[1;34m\"one\"\u001b[0m\u001b[1;33m,\u001b[0m \u001b[1;34m\"zwoa\"\u001b[0m\u001b[1;33m,\u001b[0m \u001b[1;36m3\u001b[0m\u001b[1;33m,\u001b[0m\u001b[1;36m4\u001b[0m\u001b[1;33m,\u001b[0m\u001b[1;36m5\u001b[0m\u001b[1;33m,\u001b[0m\u001b[1;36m6\u001b[0m\u001b[1;33m]\u001b[0m\u001b[1;33m,\u001b[0m\u001b[1;36m2\u001b[0m\u001b[1;33m)\u001b[0m\u001b[1;33m\u001b[0m\u001b[1;33m\u001b[0m\u001b[0m\n\u001b[0m",
      "\u001b[1;32m<ipython-input-89-f789c8ad9f52>\u001b[0m in \u001b[0;36mf6d\u001b[1;34m(l, divisor)\u001b[0m\n\u001b[0;32m      6\u001b[0m         \u001b[1;32mexcept\u001b[0m \u001b[0mTypeError\u001b[0m \u001b[1;32mas\u001b[0m \u001b[0me\u001b[0m\u001b[1;33m:\u001b[0m\u001b[1;33m\u001b[0m\u001b[1;33m\u001b[0m\u001b[0m\n\u001b[0;32m      7\u001b[0m             \u001b[0mprint\u001b[0m\u001b[1;33m(\u001b[0m\u001b[1;34m\"wrong type for % dvision\"\u001b[0m\u001b[1;33m)\u001b[0m\u001b[1;33m\u001b[0m\u001b[1;33m\u001b[0m\u001b[0m\n\u001b[1;32m----> 8\u001b[1;33m             \u001b[1;32mraise\u001b[0m \u001b[0me\u001b[0m\u001b[1;33m\u001b[0m\u001b[1;33m\u001b[0m\u001b[0m\n\u001b[0m",
      "\u001b[1;32m<ipython-input-89-f789c8ad9f52>\u001b[0m in \u001b[0;36mf6d\u001b[1;34m(l, divisor)\u001b[0m\n\u001b[0;32m      2\u001b[0m     \u001b[1;32mfor\u001b[0m \u001b[0mitem\u001b[0m \u001b[1;32min\u001b[0m \u001b[0ml\u001b[0m\u001b[1;33m:\u001b[0m\u001b[1;33m\u001b[0m\u001b[1;33m\u001b[0m\u001b[0m\n\u001b[0;32m      3\u001b[0m         \u001b[1;32mtry\u001b[0m\u001b[1;33m:\u001b[0m\u001b[1;33m\u001b[0m\u001b[1;33m\u001b[0m\u001b[0m\n\u001b[1;32m----> 4\u001b[1;33m             \u001b[1;32mif\u001b[0m \u001b[0mitem\u001b[0m \u001b[1;33m%\u001b[0m \u001b[0mdivisor\u001b[0m \u001b[1;33m==\u001b[0m \u001b[1;36m0\u001b[0m\u001b[1;33m:\u001b[0m\u001b[1;33m\u001b[0m\u001b[1;33m\u001b[0m\u001b[0m\n\u001b[0m\u001b[0;32m      5\u001b[0m                 \u001b[0mprint\u001b[0m\u001b[1;33m(\u001b[0m\u001b[0mitem\u001b[0m\u001b[1;33m)\u001b[0m\u001b[1;33m\u001b[0m\u001b[1;33m\u001b[0m\u001b[0m\n\u001b[0;32m      6\u001b[0m         \u001b[1;32mexcept\u001b[0m \u001b[0mTypeError\u001b[0m \u001b[1;32mas\u001b[0m \u001b[0me\u001b[0m\u001b[1;33m:\u001b[0m\u001b[1;33m\u001b[0m\u001b[1;33m\u001b[0m\u001b[0m\n",
      "\u001b[1;31mTypeError\u001b[0m: not all arguments converted during string formatting"
     ]
    }
   ],
   "source": [
    "f6d([\"one\", \"zwoa\", 3,4,5,6],2)"
   ]
  },
  {
   "cell_type": "markdown",
   "id": "unlimited-viking",
   "metadata": {},
   "source": [
    "### Exercise 7: \n",
    "Return the count of sub-string “Emma” appears in the given string"
   ]
  },
  {
   "cell_type": "code",
   "execution_count": 91,
   "id": "north-glasgow",
   "metadata": {},
   "outputs": [],
   "source": [
    "def f7(string, search=\"Emma\"):\n",
    "    return string.count(search)\n"
   ]
  },
  {
   "cell_type": "code",
   "execution_count": 92,
   "id": "educated-engagement",
   "metadata": {},
   "outputs": [
    {
     "data": {
      "text/plain": [
       "1"
      ]
     },
     "execution_count": 92,
     "metadata": {},
     "output_type": "execute_result"
    }
   ],
   "source": [
    "f7(\"Emma is here\")"
   ]
  },
  {
   "cell_type": "code",
   "execution_count": 93,
   "id": "indoor-midwest",
   "metadata": {},
   "outputs": [
    {
     "data": {
      "text/plain": [
       "2"
      ]
     },
     "execution_count": 93,
     "metadata": {},
     "output_type": "execute_result"
    }
   ],
   "source": [
    "f7(\"Emma is Emma\")"
   ]
  },
  {
   "cell_type": "code",
   "execution_count": 95,
   "id": "presidential-luther",
   "metadata": {},
   "outputs": [
    {
     "data": {
      "text/plain": [
       "1"
      ]
     },
     "execution_count": 95,
     "metadata": {},
     "output_type": "execute_result"
    }
   ],
   "source": [
    "f7(\"Emma is not so important any more\", search=\"not\")"
   ]
  },
  {
   "cell_type": "markdown",
   "id": "mobile-football",
   "metadata": {},
   "source": [
    "### Exercise 8: \n",
    "Print the following pattern\n",
    "1 \n",
    "2 2 \n",
    "3 3 3 \n",
    "4 4 4 4 \n",
    "5 5 5 5 5"
   ]
  },
  {
   "cell_type": "code",
   "execution_count": 98,
   "id": "hawaiian-freeze",
   "metadata": {},
   "outputs": [],
   "source": [
    "def f8(layers=5):\n",
    "    for i in range(layers+1):\n",
    "        print(str(i)*i)"
   ]
  },
  {
   "cell_type": "code",
   "execution_count": 99,
   "id": "standing-ensemble",
   "metadata": {},
   "outputs": [
    {
     "name": "stdout",
     "output_type": "stream",
     "text": [
      "\n",
      "1\n",
      "22\n",
      "333\n",
      "4444\n",
      "55555\n"
     ]
    }
   ],
   "source": [
    "f8()"
   ]
  },
  {
   "cell_type": "code",
   "execution_count": 100,
   "id": "numeric-sleeve",
   "metadata": {},
   "outputs": [
    {
     "name": "stdout",
     "output_type": "stream",
     "text": [
      "\n",
      "1\n",
      "22\n",
      "333\n",
      "4444\n",
      "55555\n",
      "666666\n",
      "7777777\n",
      "88888888\n",
      "999999999\n",
      "10101010101010101010\n",
      "1111111111111111111111\n",
      "121212121212121212121212\n"
     ]
    }
   ],
   "source": [
    "f8(12)"
   ]
  },
  {
   "cell_type": "code",
   "execution_count": 105,
   "id": "enabling-action",
   "metadata": {},
   "outputs": [],
   "source": [
    "def f8(layers=5):\n",
    "    for i in range(layers+1):\n",
    "        print(f\"{str(i):2s}\"*i)"
   ]
  },
  {
   "cell_type": "code",
   "execution_count": 106,
   "id": "linear-sentence",
   "metadata": {},
   "outputs": [
    {
     "name": "stdout",
     "output_type": "stream",
     "text": [
      "\n",
      "1 \n",
      "2 2 \n",
      "3 3 3 \n",
      "4 4 4 4 \n",
      "5 5 5 5 5 \n"
     ]
    }
   ],
   "source": [
    "f8()\n"
   ]
  },
  {
   "cell_type": "code",
   "execution_count": 107,
   "id": "cultural-freight",
   "metadata": {},
   "outputs": [
    {
     "name": "stdout",
     "output_type": "stream",
     "text": [
      "\n",
      "1 \n",
      "2 2 \n",
      "3 3 3 \n",
      "4 4 4 4 \n",
      "5 5 5 5 5 \n",
      "6 6 6 6 6 6 \n",
      "7 7 7 7 7 7 7 \n",
      "8 8 8 8 8 8 8 8 \n",
      "9 9 9 9 9 9 9 9 9 \n",
      "10101010101010101010\n",
      "1111111111111111111111\n",
      "121212121212121212121212\n"
     ]
    }
   ],
   "source": [
    "f8(12)"
   ]
  },
  {
   "cell_type": "markdown",
   "id": "computational-toyota",
   "metadata": {},
   "source": [
    "### Exercise 9: \n",
    "Reverse a given number and return true if it is the same as the original number"
   ]
  },
  {
   "cell_type": "code",
   "execution_count": 122,
   "id": "bulgarian-television",
   "metadata": {},
   "outputs": [],
   "source": [
    "def f9(number):\n",
    "    string = str(number)\n",
    "    new = int(string[::-1])\n",
    "    print(number, \"==\", new,\"?\")\n",
    "    return new == number"
   ]
  },
  {
   "cell_type": "code",
   "execution_count": 123,
   "id": "closed-diversity",
   "metadata": {},
   "outputs": [
    {
     "name": "stdout",
     "output_type": "stream",
     "text": [
      "12323456 == 65432321 ?\n"
     ]
    },
    {
     "data": {
      "text/plain": [
       "False"
      ]
     },
     "execution_count": 123,
     "metadata": {},
     "output_type": "execute_result"
    }
   ],
   "source": [
    "f9(12323456)"
   ]
  },
  {
   "cell_type": "markdown",
   "id": "sophisticated-moment",
   "metadata": {},
   "source": [
    "### Exercise 12: \n",
    "Calculate income tax for the given income by adhering to the below rules"
   ]
  },
  {
   "cell_type": "code",
   "execution_count": 124,
   "id": "progressive-fairy",
   "metadata": {},
   "outputs": [],
   "source": [
    "def f12(income):\n",
    "    tax = 0\n",
    "    tax += max(min(20000, income) - 10000,0) * 0.1\n",
    "    tax += max(income - 20000,0) * 0.2\n",
    "    return tax"
   ]
  },
  {
   "cell_type": "code",
   "execution_count": 125,
   "id": "referenced-pursuit",
   "metadata": {},
   "outputs": [
    {
     "data": {
      "text/plain": [
       "0.0"
      ]
     },
     "execution_count": 125,
     "metadata": {},
     "output_type": "execute_result"
    }
   ],
   "source": [
    "f12(8000)"
   ]
  },
  {
   "cell_type": "code",
   "execution_count": 126,
   "id": "specialized-madagascar",
   "metadata": {},
   "outputs": [
    {
     "data": {
      "text/plain": [
       "200.0"
      ]
     },
     "execution_count": 126,
     "metadata": {},
     "output_type": "execute_result"
    }
   ],
   "source": [
    "f12(12000)"
   ]
  },
  {
   "cell_type": "code",
   "execution_count": 127,
   "id": "lasting-evolution",
   "metadata": {},
   "outputs": [
    {
     "data": {
      "text/plain": [
       "2200.0"
      ]
     },
     "execution_count": 127,
     "metadata": {},
     "output_type": "execute_result"
    }
   ],
   "source": [
    "f12(26000)"
   ]
  },
  {
   "cell_type": "code",
   "execution_count": 128,
   "id": "immune-stopping",
   "metadata": {},
   "outputs": [
    {
     "data": {
      "text/plain": [
       "1000.0"
      ]
     },
     "execution_count": 128,
     "metadata": {},
     "output_type": "execute_result"
    }
   ],
   "source": [
    "f12(20000)"
   ]
  },
  {
   "cell_type": "code",
   "execution_count": 129,
   "id": "earned-houston",
   "metadata": {},
   "outputs": [
    {
     "data": {
      "text/plain": [
       "1002.0"
      ]
     },
     "execution_count": 129,
     "metadata": {},
     "output_type": "execute_result"
    }
   ],
   "source": [
    "f12(20010)"
   ]
  },
  {
   "cell_type": "code",
   "execution_count": 130,
   "id": "minimal-intervention",
   "metadata": {},
   "outputs": [
    {
     "data": {
      "text/plain": [
       "17000.0"
      ]
     },
     "execution_count": 130,
     "metadata": {},
     "output_type": "execute_result"
    }
   ],
   "source": [
    "f12(100000)"
   ]
  },
  {
   "cell_type": "code",
   "execution_count": 131,
   "id": "marked-thickness",
   "metadata": {},
   "outputs": [
    {
     "data": {
      "text/plain": [
       "16000.0"
      ]
     },
     "execution_count": 131,
     "metadata": {},
     "output_type": "execute_result"
    }
   ],
   "source": [
    "80000*0.2"
   ]
  },
  {
   "cell_type": "markdown",
   "id": "dangerous-attention",
   "metadata": {},
   "source": [
    "### Exercise 13: \n",
    "Print multiplication table form 1 to 10"
   ]
  },
  {
   "cell_type": "code",
   "execution_count": 137,
   "id": "opponent-newport",
   "metadata": {},
   "outputs": [],
   "source": [
    "def f13(n):\n",
    "    for i in range(n):\n",
    "        row = [i*j for j in range(n)]\n",
    "        print(row)\n"
   ]
  },
  {
   "cell_type": "code",
   "execution_count": 136,
   "id": "cooperative-monroe",
   "metadata": {},
   "outputs": [
    {
     "name": "stdout",
     "output_type": "stream",
     "text": [
      "[0, 0, 0, 0, 0, 0, 0, 0, 0, 0]\n",
      "[0, 1, 2, 3, 4, 5, 6, 7, 8, 9]\n",
      "[0, 2, 4, 6, 8, 10, 12, 14, 16, 18]\n",
      "[0, 3, 6, 9, 12, 15, 18, 21, 24, 27]\n",
      "[0, 4, 8, 12, 16, 20, 24, 28, 32, 36]\n",
      "[0, 5, 10, 15, 20, 25, 30, 35, 40, 45]\n",
      "[0, 6, 12, 18, 24, 30, 36, 42, 48, 54]\n",
      "[0, 7, 14, 21, 28, 35, 42, 49, 56, 63]\n",
      "[0, 8, 16, 24, 32, 40, 48, 56, 64, 72]\n",
      "[0, 9, 18, 27, 36, 45, 54, 63, 72, 81]\n"
     ]
    }
   ],
   "source": [
    "f13(10)"
   ]
  },
  {
   "cell_type": "code",
   "execution_count": 149,
   "id": "lasting-bracelet",
   "metadata": {},
   "outputs": [],
   "source": [
    "def f13b(n=10):\n",
    "    for i in range(1,n):\n",
    "        row = \"\"\n",
    "        for j in range(1,n):\n",
    "            row += f\"{str(i*j):5s}\"\n",
    "        print(row)"
   ]
  },
  {
   "cell_type": "code",
   "execution_count": 150,
   "id": "changed-edinburgh",
   "metadata": {},
   "outputs": [
    {
     "name": "stdout",
     "output_type": "stream",
     "text": [
      "1    2    3    4    5    6    7    8    9    \n",
      "2    4    6    8    10   12   14   16   18   \n",
      "3    6    9    12   15   18   21   24   27   \n",
      "4    8    12   16   20   24   28   32   36   \n",
      "5    10   15   20   25   30   35   40   45   \n",
      "6    12   18   24   30   36   42   48   54   \n",
      "7    14   21   28   35   42   49   56   63   \n",
      "8    16   24   32   40   48   56   64   72   \n",
      "9    18   27   36   45   54   63   72   81   \n"
     ]
    }
   ],
   "source": [
    "f13b()"
   ]
  },
  {
   "cell_type": "markdown",
   "id": "completed-graphics",
   "metadata": {},
   "source": [
    "### Exercise 15: \n",
    "Write a function called exponent(base, exp) that returns an int value of base raises to the power of exp."
   ]
  },
  {
   "cell_type": "code",
   "execution_count": 151,
   "id": "beautiful-queens",
   "metadata": {},
   "outputs": [],
   "source": [
    "def exponent(base, exp):\n",
    "    return base ** exp\n"
   ]
  },
  {
   "cell_type": "code",
   "execution_count": 152,
   "id": "official-longitude",
   "metadata": {},
   "outputs": [
    {
     "data": {
      "text/plain": [
       "256"
      ]
     },
     "execution_count": 152,
     "metadata": {},
     "output_type": "execute_result"
    }
   ],
   "source": [
    "exponent(2,8)"
   ]
  },
  {
   "cell_type": "code",
   "execution_count": null,
   "id": "verbal-yahoo",
   "metadata": {},
   "outputs": [],
   "source": []
  }
 ],
 "metadata": {
  "kernelspec": {
   "display_name": "Python 3",
   "language": "python",
   "name": "python3"
  },
  "language_info": {
   "codemirror_mode": {
    "name": "ipython",
    "version": 3
   },
   "file_extension": ".py",
   "mimetype": "text/x-python",
   "name": "python",
   "nbconvert_exporter": "python",
   "pygments_lexer": "ipython3",
   "version": "3.8.5"
  },
  "toc": {
   "base_numbering": 1,
   "nav_menu": {},
   "number_sections": true,
   "sideBar": true,
   "skip_h1_title": false,
   "title_cell": "Table of Contents",
   "title_sidebar": "Contents",
   "toc_cell": false,
   "toc_position": {},
   "toc_section_display": true,
   "toc_window_display": false
  }
 },
 "nbformat": 4,
 "nbformat_minor": 5
}
